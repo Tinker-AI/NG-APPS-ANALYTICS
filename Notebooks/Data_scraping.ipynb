{
  "nbformat": 4,
  "nbformat_minor": 0,
  "metadata": {
    "colab": {
      "name": "Naija _APPS/GAMES_Scraping.ipynb",
      "provenance": [],
      "collapsed_sections": []
    },
    "kernelspec": {
      "display_name": "Python 3",
      "name": "python3"
    },
    "language_info": {
      "name": "python"
    }
  },
  "cells": [
    {
      "cell_type": "code",
      "metadata": {
        "id": "_XXbx5QM7YZf"
      },
      "source": [
        "%cd /content/drive/My Drive"
      ],
      "execution_count": null,
      "outputs": []
    },
    {
      "cell_type": "code",
      "metadata": {
        "colab": {
          "base_uri": "https://localhost:8080/"
        },
        "id": "Kox6cArtwZWl",
        "outputId": "8007ff5d-20a8-4aef-f701-723e4fc3f15f"
      },
      "source": [
        "!pip install google-play-scraper"
      ],
      "execution_count": null,
      "outputs": [
        {
          "output_type": "stream",
          "name": "stdout",
          "text": [
            "Collecting google-play-scraper\n",
            "  Downloading google-play-scraper-1.0.2.tar.gz (52 kB)\n",
            "\u001b[?25l\r\u001b[K     |██████▏                         | 10 kB 28.4 MB/s eta 0:00:01\r\u001b[K     |████████████▍                   | 20 kB 26.2 MB/s eta 0:00:01\r\u001b[K     |██████████████████▋             | 30 kB 29.7 MB/s eta 0:00:01\r\u001b[K     |████████████████████████▉       | 40 kB 15.3 MB/s eta 0:00:01\r\u001b[K     |███████████████████████████████ | 51 kB 17.7 MB/s eta 0:00:01\r\u001b[K     |████████████████████████████████| 52 kB 1.7 MB/s \n",
            "\u001b[?25hBuilding wheels for collected packages: google-play-scraper\n",
            "  Building wheel for google-play-scraper (setup.py) ... \u001b[?25l\u001b[?25hdone\n",
            "  Created wheel for google-play-scraper: filename=google_play_scraper-1.0.2-py3-none-any.whl size=24393 sha256=93a47443ab48e0ea177a5e884a7ff81b16d5976860f0c8c4684cf9ba4914ee11\n",
            "  Stored in directory: /root/.cache/pip/wheels/98/99/eb/bbb9d24a5c526980647efc10336eaaeffcf07749f581111128\n",
            "Successfully built google-play-scraper\n",
            "Installing collected packages: google-play-scraper\n",
            "Successfully installed google-play-scraper-1.0.2\n"
          ]
        }
      ]
    },
    {
      "cell_type": "code",
      "metadata": {
        "id": "-poRP05Xw7jN"
      },
      "source": [
        "from google_play_scraper import app\n",
        "import pandas as pd"
      ],
      "execution_count": null,
      "outputs": []
    },
    {
      "cell_type": "code",
      "metadata": {
        "id": "XAfMT22-_BWl",
        "colab": {
          "base_uri": "https://localhost:8080/"
        },
        "outputId": "d9a5eb91-04f8-4d5d-c0d9-e9ab69401083"
      },
      "source": [
        "result2 = app(\n",
        "      app_id = \"org.telegram.messenger\",\n",
        "      lang='en', # defaults to 'en'\n",
        "      country='ng' # set country to 'ng'\n",
        "  )\n",
        "\n",
        "result2"
      ],
      "execution_count": null,
      "outputs": [
        {
          "output_type": "execute_result",
          "data": {
            "text/plain": [
              "{'adSupported': None,\n",
              " 'androidVersion': 'Varies',\n",
              " 'androidVersionText': 'Varies with device',\n",
              " 'appId': 'org.telegram.messenger',\n",
              " 'comments': [],\n",
              " 'containsAds': False,\n",
              " 'contentRating': 'Rated for 12+',\n",
              " 'contentRatingDescription': 'Parental Guidance Recommended',\n",
              " 'currency': 'NGN',\n",
              " 'description': \"Pure instant messaging — simple, fast, secure, and synced across all your devices. One of the world's top 10 most downloaded apps with over 500 million active users.\\r\\n\\r\\nFAST: Telegram is the fastest messaging app on the market, connecting people via a unique, distributed network of data centers around the globe.\\r\\n\\r\\nSYNCED: You can access your messages from all your phones, tablets and computers at once. Telegram apps are standalone, so you don’t need to keep your phone connected. Start typing on one device and finish the message from another. Never lose your data again.\\r\\n\\r\\nUNLIMITED: You can send media and files, without any limits on their type and size. Your entire chat history will require no disk space on your device, and will be securely stored in the Telegram cloud for as long as you need it. \\r\\n\\r\\nSECURE: We made it our mission to provide the best security combined with ease of use. Everything on Telegram, including chats, groups, media, etc. is encrypted using a combination of 256-bit symmetric AES encryption, 2048-bit RSA encryption, and Diffie–Hellman secure key exchange. \\r\\n\\r\\n100% FREE & OPEN: Telegram has a fully documented and free API for developers, open source apps and verifiable builds to prove the app you download is built from the exact same source code that is published. \\r\\n\\r\\nPOWERFUL: You can create group chats with up to 200,000 members, share large videos, documents of any type (.DOCX, .MP3, .ZIP, etc.) up to 2 GB each, and even set up bots for specific tasks. Telegram is the perfect tool for hosting online communities and coordinating teamwork.\\r\\n\\r\\nRELIABLE: Built to deliver your messages using as little data as possible, Telegram is the most reliable messaging system ever made. It works even on the weakest mobile connections. \\r\\n\\r\\nFUN: Telegram has powerful photo and video editing tools, animated stickers and emoji, fully customizable themes to change the appearance of your app, and an open sticker/GIF platform to cater to all your expressive needs.\\r\\n\\r\\nSIMPLE: While providing an unprecedented array of features, we take great care to keep the interface clean. Telegram is so simple you already know how to use it.\\r\\n\\r\\nPRIVATE: We take your privacy seriously and will never give any third parties access to your data. You can delete any message you ever sent or received for both sides, at any time and without a trace. Telegram will never use your data to show you ads.\\r\\n\\r\\nFor those interested in maximum privacy, Telegram offers Secret Chats. Secret Chat messages can be programmed to self-destruct automatically from both participating devices. This way you can send all types of disappearing content — messages, photos, videos, and even files. Secret Chats use End-to-End Encryption to ensure that a message can only be read by its intended recipient.\\r\\n\\r\\nWe keep expanding the boundaries of what you can do with a messaging app. Don’t wait years for older messengers to catch up with Telegram — join the revolution today.\",\n",
              " 'descriptionHTML': 'Pure instant messaging — simple, fast, secure, and synced across all your devices. One of the world&#39;s top 10 most downloaded apps with over 500 million active users.<br><br>FAST: Telegram is the fastest messaging app on the market, connecting people via a unique, distributed network of data centers around the globe.<br><br>SYNCED: You can access your messages from all your phones, tablets and computers at once. Telegram apps are standalone, so you don’t need to keep your phone connected. Start typing on one device and finish the message from another. Never lose your data again.<br><br>UNLIMITED: You can send media and files, without any limits on their type and size. Your entire chat history will require no disk space on your device, and will be securely stored in the Telegram cloud for as long as you need it. <br><br>SECURE: We made it our mission to provide the best security combined with ease of use. Everything on Telegram, including chats, groups, media, etc. is encrypted using a combination of 256-bit symmetric AES encryption, 2048-bit RSA encryption, and Diffie–Hellman secure key exchange. <br><br>100% FREE &amp; OPEN: Telegram has a fully documented and free API for developers, open source apps and verifiable builds to prove the app you download is built from the exact same source code that is published. <br><br>POWERFUL: You can create group chats with up to 200,000 members, share large videos, documents of any type (.DOCX, .MP3, .ZIP, etc.) up to 2 GB each, and even set up bots for specific tasks. Telegram is the perfect tool for hosting online communities and coordinating teamwork.<br><br>RELIABLE: Built to deliver your messages using as little data as possible, Telegram is the most reliable messaging system ever made. It works even on the weakest mobile connections. <br><br>FUN: Telegram has powerful photo and video editing tools, animated stickers and emoji, fully customizable themes to change the appearance of your app, and an open sticker/GIF platform to cater to all your expressive needs.<br><br>SIMPLE: While providing an unprecedented array of features, we take great care to keep the interface clean. Telegram is so simple you already know how to use it.<br><br>PRIVATE: We take your privacy seriously and will never give any third parties access to your data. You can delete any message you ever sent or received for both sides, at any time and without a trace. Telegram will never use your data to show you ads.<br><br>For those interested in maximum privacy, Telegram offers Secret Chats. Secret Chat messages can be programmed to self-destruct automatically from both participating devices. This way you can send all types of disappearing content — messages, photos, videos, and even files. Secret Chats use End-to-End Encryption to ensure that a message can only be read by its intended recipient.<br><br>We keep expanding the boundaries of what you can do with a messaging app. Don’t wait years for older messengers to catch up with Telegram — join the revolution today.',\n",
              " 'developer': 'Telegram FZ-LLC',\n",
              " 'developerAddress': None,\n",
              " 'developerEmail': 'support@telegram.org',\n",
              " 'developerId': 'Telegram+FZ-LLC',\n",
              " 'developerInternalID': '7766252821327259628',\n",
              " 'developerWebsite': 'https://telegram.org',\n",
              " 'editorsChoice': False,\n",
              " 'free': True,\n",
              " 'genre': 'Communication',\n",
              " 'genreId': 'COMMUNICATION',\n",
              " 'headerImage': 'https://play-lh.googleusercontent.com/pgiel6OzR01do2sPxONlteJ5_GAwD6W-JpiF98hdns3XinShKZkziUd1B8sG-8qa',\n",
              " 'histogram': [538381, 230907, 720263, 1548262, 6624150],\n",
              " 'icon': 'https://play-lh.googleusercontent.com/ZU9cSsyIJZo6Oy7HTHiEPwZg0m2Crep-d5ZrfajqtsH-qgUXSqKpNA2FpPDTn-7qA5Q',\n",
              " 'inAppProductPrice': None,\n",
              " 'installs': '1,000,000,000+',\n",
              " 'minInstalls': 1000000000,\n",
              " 'moreByDeveloper': ['org.thunderdog.challegram',\n",
              "  'org.telegram.wastickers.halloween',\n",
              "  'org.telegram.wastickers.bestof'],\n",
              " 'offersIAP': False,\n",
              " 'originalPrice': None,\n",
              " 'price': 0,\n",
              " 'privacyPolicy': 'https://telegram.org/privacy',\n",
              " 'ratings': 9661963,\n",
              " 'recentChanges': '• Protected content. Authors can limit the ability to save media, take screenshots and forward messages from their groups and channels.\\r\\n• Delete by date. Tap the date header in 1-on-1 chats and select a date range to clear chat history from that period.\\r\\n• Device management. Quickly connect desktop and web versions via QR codes. Control which devices may accept Calls or new Secret Chats.\\r\\n• Comment as one of your channels in public groups.\\r\\n\\r\\nSee all the other changes in-app or on our blog.',\n",
              " 'recentChangesHTML': '• Protected content. Authors can limit the ability to save media, take screenshots and forward messages from their groups and channels.<br>• Delete by date. Tap the date header in 1-on-1 chats and select a date range to clear chat history from that period.<br>• Device management. Quickly connect desktop and web versions via QR codes. Control which devices may accept Calls or new Secret Chats.<br>• Comment as one of your channels in public groups.<br><br>See all the other changes in-app or on our blog.',\n",
              " 'released': 'Sep 6, 2013',\n",
              " 'reviews': 26170,\n",
              " 'sale': False,\n",
              " 'saleText': None,\n",
              " 'saleTime': None,\n",
              " 'score': 4.396037,\n",
              " 'screenshots': ['https://play-lh.googleusercontent.com/wlwY1vowGxTrvQMRDHJD21iYBG7S_E09QbKPY-L6dqEc4UxCi0fDQiNuCBonFYED1yU',\n",
              "  'https://play-lh.googleusercontent.com/xdjWKko-a2DFtICA6tfP0vXSBIDTFl_iprhVQb9HnS-rGjyR1wZckqM721qHsF-2z0U',\n",
              "  'https://play-lh.googleusercontent.com/NaeXtT-aGP9_R8LROs3XyWVc6eU7sxYuuywNwg3c99AjRtj6cCoPaJynhP0t8uynF6hm',\n",
              "  'https://play-lh.googleusercontent.com/J5JG9T92CSZopWKloI00_DsmyQprRvEwItBwPkESjcAlIKy5v4ae3T4pmbH1sWFf3RTQ',\n",
              "  'https://play-lh.googleusercontent.com/9HoCw2kOVFD504YpjDyk1Aa5WtcbDsxS_wesF-yT-5iHEvRgHZXT22g2clFXGGwoCTOt',\n",
              "  'https://play-lh.googleusercontent.com/bDGf2oHe1y_uaFE6XCh2kYicn3-1yiLMTI5hae9s5zMaNPzOpj04An1URWQyw5m5JhA',\n",
              "  'https://play-lh.googleusercontent.com/v0zodHEHUcMgUZSK490M9L5c3Grk5pkDHL-TTdfQK3098Wg0W2bxbK1-cmgN9aKEuQ',\n",
              "  'https://play-lh.googleusercontent.com/-4x3oxK3bMWXTpwPrlai_HYHcHnH_sa8KvYj5KvYPwjSZV7rsg4kpIafYhfnRvBsUtc'],\n",
              " 'similarApps': ['org.thunderdog.challegram',\n",
              "  'com.instagram.android',\n",
              "  'com.whatsapp',\n",
              "  'com.facebook.orca',\n",
              "  'com.discord'],\n",
              " 'size': 'Varies with device',\n",
              " 'summary': 'Telegram is a messaging app with a focus on speed and security.',\n",
              " 'summaryHTML': 'Telegram is a messaging app with a focus on speed and security.',\n",
              " 'title': 'Telegram',\n",
              " 'updated': 1639110581,\n",
              " 'url': 'https://play.google.com/store/apps/details?id=org.telegram.messenger&hl=en&gl=ng',\n",
              " 'version': '8.3.2',\n",
              " 'video': None,\n",
              " 'videoImage': None}"
            ]
          },
          "metadata": {},
          "execution_count": 4
        }
      ]
    },
    {
      "cell_type": "markdown",
      "metadata": {
        "id": "T9LpCjjtrG4K"
      },
      "source": [
        "# Game Apps"
      ]
    },
    {
      "cell_type": "markdown",
      "metadata": {
        "id": "27p9oflgwmjj"
      },
      "source": [
        "This part is specifically used for scraping all the nigeria game apps which is going to be saved to a different csv file\n",
        "\n"
      ]
    },
    {
      "cell_type": "code",
      "metadata": {
        "id": "bS2OAgCHw7nk"
      },
      "source": [
        "ngApps = [\"com.tonielrosoft.classicludofree\", \"com.tonielro.mygdxgame\", \"com.tonielrosoft.snakeladder\", \"air.yoruba101\",\n",
        "          \"com.maliyo.whotking\", \"com.akwukwo.app\", \"com.dulceprime.nigeriaspellingbee\",\n",
        "          \"com.Happy.ChicasNuevas\", \"naira.bets\", \"classic.soccer.league.nga\", \"com.cowbellpedia.gameshowapp\", \"com.rogiestudio.naijajabet\",\n",
        "          \"com.nigerian.newspapers.nigeria_news\", \"io.kodular.johnson_olapade.LudoStar\", \"com.mancommng.hausakacicikacici\",\n",
        "          \"com.bisonplay.mrokadahd\", \"com.deluxecreation.chikesky\", \"com.ralph.solutiontipster\", \"ng.com.beanstudios.akogun\",\n",
        "         \"com.manmunir.kwanaquize\", \"com.tplusplus.indomierunner\", \"lotto.keys\", \"com.nigeriamap.dev\", \"com.Maliyo.abokirun\",\n",
        "         \"com.chopbarh.common\", \"com.maliyo.ndeltacommando\", \"com.grishinteractive.lagoscityrun\", \"com.gremacorp.b9janov2020\",\n",
        "         \"com.Sixthcreation.TNQG\", \"software.appus.qnaija\", \"com.eduapp4syria.feedthemonsterENGLISH\", \"com.pictures.kacicikacici\",\n",
        "         \"naijaloaded.mobileapp\", \"com.synergie.takpan.mapoutnigeria.paid.release\", \"com.ire.game\", \"com.youruba\", \"apps.com.lucren.EnyimbaLive\",\n",
        "         \"cn.moonbear.ayo\", \"com.b9afr.sport492\", \"com.raidify.itan\", \n",
        "         \"com.blogspot.bidatop.nigeriacurrentaffairs2018\", \"com.eduapp4syria.feedthemonsterHausa\", \"com.fortuneStudio.Weedmatch3\", \n",
        "         \"com.grishinteractive.topstrikerfootball\",  \"com.naijasuper.runneradventure\",\n",
        "         \"com.ni.nfsc\", \"com.oitomileseiscentos.guiadesportolazer\", \"com.rewproductions.wcnigeriaplayerquiz\", \"com.vandykam.mobile\",\n",
        "         \"com.wwwebteam.games.amigame\",  \"com.plovtech.affon\", \"com.swiftqube.guessqube\", \"com.grfutball.gr\",\n",
        "         \"com.Naijabranch.Shapeymix\", \"com.ionicframework.Confam577053\", \"com.owolaball.owolaball\", \n",
        "         \"com.olajideosho.lifeinlagos\", \"com.SMstudios.Rockfall\", \"com.choiceintercomm.naijacandypro\", \"com.cricheroes.ncf\", \"com.edenpublisher.naijaloot\",\n",
        "         \"com.fnoex.fan.deltastate\", \"com.handheld.demo\", \"com.igbogames.saintceja\", \"chibu.soft.evilbugs\", \"com.sportsidplovtech\", \"com.yorubagames.saintceja\",\n",
        "         \"com.zillionstudios.nffcardindicator\", \"ibomquest.ibomquest\", \"com.inspirati.inspiredrunner\", \"com.wwwebteam.amitest.pro\", \"com.n182c150d2be.www\",\n",
        "         \"com.deenisoft.naijasport\", \"com.carryfirst\"] \n",
        "\n",
        "RESULT = []\n",
        "\n",
        "#try: \n",
        "for ngApp in ngApps:\n",
        "  #print(ngApp)\n",
        "  result2 = app(\n",
        "      app_id = ngApp,\n",
        "      lang='en', # defaults to 'en'\n",
        "      country='ng' # set country to 'ng'\n",
        "  )\n",
        "  RESULT.append(result2)\n",
        "#except:                       \n",
        " # \"HTTPError\"\n",
        "  #pass"
      ],
      "execution_count": null,
      "outputs": []
    },
    {
      "cell_type": "code",
      "metadata": {
        "id": "KRUbDmH6w7rR"
      },
      "source": [
        "keys = [\"title\", \"summary\", \"free\", \"genre\", \"installs\", \"ratings\", \"price\", \"size\", \n",
        "        \"contentRating\", \"reviews\", \"released\", \"adSupported\", \"sale\", \"score\", \"similarApps\", \"version\"]\n",
        "APP = []\n",
        "\n",
        "for result in RESULT:\n",
        "  appDetail2 = {key: result[key] for key in keys }\n",
        "  APP.append(appDetail2)"
      ],
      "execution_count": null,
      "outputs": []
    },
    {
      "cell_type": "code",
      "metadata": {
        "id": "XJoYCieMw7uH"
      },
      "source": [
        "game_df = pd.DataFrame(APP)\n",
        "len(game_df)"
      ],
      "execution_count": null,
      "outputs": []
    },
    {
      "cell_type": "code",
      "metadata": {
        "id": "WFn9fzzKw7wr"
      },
      "source": [
        "game_df.to_csv(\"/content/drive/MyDrive/Colab Notebooks/games.csv\", index=False)"
      ],
      "execution_count": null,
      "outputs": []
    },
    {
      "cell_type": "markdown",
      "metadata": {
        "id": "PwgKpy-ktmHf"
      },
      "source": [
        "# Health And Fitness Apps"
      ]
    },
    {
      "cell_type": "code",
      "metadata": {
        "id": "D7CgPSXwrSxY"
      },
      "source": [
        "ngApps = [\"com.exolvemedia.naijarecipes\", \"com.andromo.dev653890.app649483\", \"com.andromo.dev701988.app884199\", \"com.andromo.dev701988.app884199\",\n",
        "          \"com.makeuptutorials.ng\", \"com.andromo.dev457443.app440461\", \"forever.living.products.catalogue.foreverlivingproductscatalogue\", \n",
        "          \"com.microsoft.azure.mobileapps.hymobile\", \"com.andromo.dev700805.app853329\", \"com.toyonnet.nigerianfoodrecipes\", \"com.technopet.inoovate.longrich\", \"com.andromo.dev701988.app885460\",\n",
        "           \"com.mecure.smartbuy\", \"com.andromo.dev738202.app828150\", \"com.andromo.dev701988.app885477\", \"com.easesolutions.easypsychiatry\",\n",
        "           \"com.andromo.dev701988.app885669\", \"com.andromo.dev701988.app885675\", \"com.andromo.dev479905.app462064\", \"com.consultdoctorcare247.doctorcare247\",\n",
        "           \"org.ksphcda.www\", \"com.worthyworks.hepatitisnigerianetwork\", \"com.andromo.dev360295.app336772\", \"org.tciurbanhealth.app\", \"com.studios.ascension.medplanng\",\n",
        "           \"com.n4labs.yfs\", \"com.andromo.dev455392.app506573\", \"com.ver.patient.vidyo.doctor\", \"com.andromo.dev700805.app858832\", \"com.andromo.dev803101.app948711\",\n",
        "           \"com.andromo.dev803101.app978445\", \"com.newandromo.dev21254.app159632\", \"com.newandromo.dev728180.app952861\", \"com.bonitaconnectConnectBonita\", \n",
        "           \"com.tropidoc\", \"com.pronov.app\", \"com.mikeoki.oki.mikeoki.oki.myhealthinfo\", \"com.newandromo.dev5816.app1270997\", \"com.doc_on_call_24_7_mobile\",\n",
        "           \"com.quickcare\", \"com.thebuston.mats\", \"com.whausafashionblog_11755953\", \"com.nigerianembroideryfashionstyle.aykco\", \"com.codenature.vrun\",\n",
        "           \"com.curechat.mobile\", \"com.onehealthng\", \"com.paperlit.android.radiant\", \"com.tp.fpdashboard\", \"com.vkm.reportahealth\",\n",
        "           \"org.ekokonnect.reprohealth2\", \"org.fhi360.lamis.mobile.cparp\", \"the.heal.app\", \"com.drugstoc.app\", \"com.navihealth.mdoc\",\n",
        "           \"com.newandromo.dev544440.app765215\", \"com.howtotiegele.primex\", \"com.redcross.servicegroupkano\", \"com.servotronicstech.Docdey\", \"com.tropidocfordoctors\",\n",
        "           \"net.fluentapps.dpharmacy\", \"com.ashia.mobile\", \"com.centrifugegroup.bchis\", \"com.gabnite.looksoptions\", \"com.hypertonicapps.igboenglishtranslator\",\n",
        "           \"com.landoria.somlfinal\", \"com.luxuryetal.relaxx\", \"com.mobiroller.mobi1142740811940\", \"com.ofingo.fitnesstalk\", \"com.livehealth.uniondignostics\",\n",
        "           \"mebdostechnologies.www.unapsa_pan_2018\", \"ng.org.tbcare\", \"com.cloveebiz.bloodbank\", \"com.plagtibmobile.login.android5dfa055017578\", \"com.plagtibmobile.login.android5e0a8754d3b2f\"]\n",
        "\n",
        "RESULT = []\n",
        "\n",
        "for ngApp in ngApps:\n",
        "  result2 = app(\n",
        "      app_id = ngApp,\n",
        "      lang='en', # defaults to 'en'\n",
        "      country='ng' # set country to 'ng'\n",
        "  )\n",
        "  RESULT.append(result2)"
      ],
      "execution_count": null,
      "outputs": []
    },
    {
      "cell_type": "code",
      "metadata": {
        "id": "TitkmzlIrS0Z"
      },
      "source": [
        "keys = ['appId', 'summary', 'free', 'genre', 'installs', 'ratings', 'price', 'size', \\\n",
        "        'contentRating', 'reviews', 'released', 'adSupported', 'sale', 'editorsChoice']\n",
        "APP = []\n",
        "\n",
        "for result in RESULT:\n",
        "  appDetail2 = {key: result[key] for key in keys }\n",
        "  APP.append(appDetail2)"
      ],
      "execution_count": null,
      "outputs": []
    },
    {
      "cell_type": "code",
      "metadata": {
        "colab": {
          "base_uri": "https://localhost:8080/"
        },
        "id": "qSDBo8fKrS3D",
        "outputId": "ba215410-0a54-4a00-879f-0b65e8181f30"
      },
      "source": [
        "healthFitness_df = pd.DataFrame(APP)\n",
        "len(healthFitness_df)"
      ],
      "execution_count": null,
      "outputs": [
        {
          "data": {
            "text/plain": [
              "74"
            ]
          },
          "execution_count": 6,
          "metadata": {},
          "output_type": "execute_result"
        }
      ]
    },
    {
      "cell_type": "code",
      "metadata": {
        "id": "0uWVfnZfsBqa"
      },
      "source": [
        "healthFitness_df.to_csv(\"/content/drive/MyDrive/Gameplay_data/healthFitness.csv\", index=False)"
      ],
      "execution_count": null,
      "outputs": []
    },
    {
      "cell_type": "markdown",
      "metadata": {
        "id": "C53160vHrsu-"
      },
      "source": [
        "# Personalisation Apps\n"
      ]
    },
    {
      "cell_type": "code",
      "metadata": {
        "id": "D25bY51JrS5v"
      },
      "source": [
        "ngApps = [\"com.mobimaticbuilder.app.android5a591e207a2bf\", \"com.andromo.dev677517.app688207\", \"com.sehnsa.apps.hausa.keyboard.apps\",\n",
        "          \"com.sehnsa.free.apps.yoruba.keyboard.app\", \"com.Nigeriateam.Africacup\", \"com.wizzhard.naija\", \"com.climatech.anthemnigeria\",\n",
        "          \"com.moyinoluwa.yorubawatchfaces\", \"com.andromo.dev701988.app809605\", \"com.loveworldcloud.android\", \"com.sehnsa.apps.igbo.keyboard.apps\",\n",
        "         \"com.andromo.dev701988.app809572\", \"com.andromo.dev701988.app809582\", \"com.andromo.dev701988.app809594\", \"com.andromo.dev701988.app809625\", \"com.kundinmasoyaturancidahausa\",\n",
        "         \"com.andromo.dev701988.app811443\", \"com.queen.wallnaija\", \"com.smartrr.smartrr\", \"com.rayyahee.bhisabi\",\n",
        "         \"com.arecales.nigeriaproject\", \"com.greatcallie.engineeringmodeapp\", \"com.izee.zee.free.apps.hausa.keyboard\", \"com.izee.zee.free.apps.igbo.keyboard\",\n",
        "          \"com.izee.zee.free.apps.yoruba.keyboard\", \"com.mehr.un.nisa.free.apps.igbo.keyboard\", \"com.multi.keyboard.slovak.keyboard.slovakkeypad\", \"com.sonymobile.themes.teamnigeria\",\n",
        "          \"aare.akinbo\"]\n",
        "\n",
        "RESULT = []\n",
        "\n",
        "for ngApp in ngApps:\n",
        "  #print(ngApp)\n",
        "  result2 = app(\n",
        "      app_id = ngApp,\n",
        "      lang='en', # defaults to 'en'\n",
        "      country='ng' # set country to 'ng'\n",
        "  )\n",
        "  RESULT.append(result2)"
      ],
      "execution_count": null,
      "outputs": []
    },
    {
      "cell_type": "code",
      "metadata": {
        "id": "4CdW3UaUrS8m"
      },
      "source": [
        "keys = [\"title\", \"summary\", \"free\", \"genre\", \"installs\", \"ratings\", \"price\", \"size\", \n",
        "        \"contentRating\", \"reviews\", \"released\", \"adSupported\", \"sale\", \"score\", \"similarApps\", \"version\"]\n",
        "APP = []\n",
        "\n",
        "for result in RESULT:\n",
        "  appDetail2 = {key: result[key] for key in keys }\n",
        "  APP.append(appDetail2)"
      ],
      "execution_count": null,
      "outputs": []
    },
    {
      "cell_type": "code",
      "metadata": {
        "colab": {
          "base_uri": "https://localhost:8080/"
        },
        "id": "BllQcvK6rS_P",
        "outputId": "d188fd27-e08e-4524-da26-1c4e41d46341"
      },
      "source": [
        "personalize_data_df = pd.DataFrame(APP)\n",
        "len(personalize_data_df)"
      ],
      "execution_count": null,
      "outputs": [
        {
          "data": {
            "text/plain": [
              "30"
            ]
          },
          "execution_count": 24,
          "metadata": {},
          "output_type": "execute_result"
        }
      ]
    },
    {
      "cell_type": "code",
      "metadata": {
        "id": "45P0etVJrTCT"
      },
      "source": [
        "personalize_data_df.to_csv(\"/content/drive/MyDrive/Colab Notebooks/personalisation.csv\", index=False)"
      ],
      "execution_count": null,
      "outputs": []
    },
    {
      "cell_type": "markdown",
      "metadata": {
        "id": "HSvWaRZ8BeSJ"
      },
      "source": [
        "# Tools Apps\n"
      ]
    },
    {
      "cell_type": "code",
      "metadata": {
        "id": "r8jaLW_vqFVp"
      },
      "source": [
        "\"com.etisalat.easymobile\", \"com.ebot64.igbocalendar\", \"com.yso_public\", \"com.jerryjoshua.kizzdanielsongsoffline\", \"com.dodemy.naijabankcodes\",\n",
        "          \"klye.plugin.yo\", \"com.afrbtcapp\", \"com.sm.AEC\", \"com.appsamimanera.nigeriacalendar\",\n",
        "          \"com.apc.registration.selftservice.apc.apcselfservicenew\", \"com.mz4mobile.nigeriapostcode\", \"com.reinsys.ngtaxcalculator\", \"tw.actman.android.tools.lottoplayer.free.nigeria\", \n",
        "          \"com.tavplus.wlbcapp\", \"nigerian.network.ussd.code\", \"com.plovtech.proveam\", \"com.gokada.agent\",\n",
        "          \"ng.com.nklere.ruwasa\", \"com.cvthub.hausavoiceandcameratranslator\",\n",
        "          \"com.lainitech.tosh.nigeriapayslipcalculator\", \"com.codb.igbocalendar\", \"com.cizar.klakom\", \"free.uaefuj.nigeriavpn\",\n",
        "          \"com.cdrapp.www\", \"com.datacrowd.mobile\", \"com.views.breakthrough\",\n",
        "          \"com.electionmonitor.mobileapp\", \"com.idveryng.idvry\", \"com.reinsys.apps.conferencing.nesg\", \"com.techmax.dollartonaira\", \"com.tequila.survey.mobile\",\n",
        "         \"ng.gov.naptip.app.android\", \"com.gdglagos.devfestlagos\", \"ng.gosquare.dispatch\", \"io.ionic.deliveryglobal\", \"appinventor.ai_sundayoladejo13.UACHymn_Editing\",\n",
        "         \"com.frankappweb.vtu\", \"com.cvthub.igbovoiceandcameratranslator\", \"com.gsd.iam\",\n",
        "         \"com.hypertonicapps.yorubaarabictranslator\", \"org.etbmobile\", \"com.graceapp.onlineradio\", \"com.memmcol.olanipekunadedoyin.softx\", \"com.seamfix.fuelvoucher\","
      ],
      "execution_count": null,
      "outputs": []
    },
    {
      "cell_type": "code",
      "metadata": {
        "id": "4oadx6ntrTEy"
      },
      "source": [
        "ngApps = [\n",
        "          \"com.etisalat.easymobile\", \"com.ebot64.igbocalendar\", \"com.yso_public\", \"com.jerryjoshua.kizzdanielsongsoffline\", \"com.dodemy.naijabankcodes\",\n",
        "          \"klye.plugin.yo\", \"com.afrbtcapp\", \"com.sm.AEC\", \"com.appsamimanera.nigeriacalendar\",\n",
        "          \"com.apc.registration.selftservice.apc.apcselfservicenew\", \"com.mz4mobile.nigeriapostcode\", \"com.reinsys.ngtaxcalculator\", \"tw.actman.android.tools.lottoplayer.free.nigeria\", \n",
        "          \"com.tavplus.wlbcapp\", \"nigerian.network.ussd.code\", \"com.plovtech.proveam\", \"com.gokada.agent\",\n",
        "          \"ng.com.nklere.ruwasa\", \"com.cvthub.hausavoiceandcameratranslator\",\n",
        "          \"com.lainitech.tosh.nigeriapayslipcalculator\", \"com.codb.igbocalendar\", \"com.cizar.klakom\", \"free.uaefuj.nigeriavpn\",\n",
        "          \"com.cdrapp.www\", \"com.datacrowd.mobile\", \"com.views.breakthrough\",\n",
        "          \"com.electionmonitor.mobileapp\", \"com.idveryng.idvry\", \"com.reinsys.apps.conferencing.nesg\", \"com.techmax.dollartonaira\", \"com.tequila.survey.mobile\",\n",
        "         \"ng.gov.naptip.app.android\", \"com.gdglagos.devfestlagos\", \"ng.gosquare.dispatch\", \"io.ionic.deliveryglobal\", \"appinventor.ai_sundayoladejo13.UACHymn_Editing\",\n",
        "         \"com.frankappweb.vtu\", \"com.cvthub.igbovoiceandcameratranslator\", \"com.gsd.iam\",\n",
        "         \"com.hypertonicapps.yorubaarabictranslator\", \"org.etbmobile\", \"com.graceapp.onlineradio\", \"com.memmcol.olanipekunadedoyin.softx\", \"com.seamfix.fuelvoucher\",\n",
        "          \"com.cizar.datahq\", \"com.reinsys.beacon\", \"com.blogspot.bidatop.original\", \"com.english_nigeria.speech_notes.speechtotext\",\n",
        "        \"com.fourth.solicitorC\", \"com.goswift.app\", \"com.mirwebsistem.currencyeyes\", \"com.techmax.eurotonaira\", \"com.timchangwuyep.timchangwuyep.sosnigeria\",\n",
        "         \"org.cicipu.cicipukeyboard\", \"org.cicipu.pangukeyboard\", \"sekuredID.firstversion.release\", \"com.gabnite.naijaapps\",\n",
        "          \"com.jeantechnologys.trch\", \"com.lawdata.godigital\", \"com.sotex.cem\", \"com.takshapps.free_translator.igen\", \"com.developer.wise4rmgod.languagetranslator\",\n",
        "          \"com.techmax.poundtonaira\", \"ng.kpmg.nigeriaethics\", \"org.cicipu.kamukukeyboard\", \"com.sheynalie.app\", \"com.coderscage.voluntaryprinciples\",\n",
        "          \"com.democracywatch\", \"com.gmail.ikechianya1.Property_checker_Nigeria\", \"com.gps.track.efskyview\", \"com.lasergroup.laserng\",\n",
        "          \"com.siwp.ng\", \"com.thebuston.mpstool\", \"io.ionic.facsims\", \"net.codeprof.uploadimage\",\n",
        "          \"com.ekitiwatercorporation\", \"io.vgg.com\", \"com.inspirante.constantsee.Business\"\n",
        "          ]\n",
        "\n",
        "RESULT = []\n",
        "\n",
        "for ngApp in ngApps:\n",
        "  result2 = app(\n",
        "      app_id = ngApp,\n",
        "      lang='en', # defaults to 'en'\n",
        "      country='ng' # set country to 'ng'\n",
        "  )\n",
        "  RESULT.append(result2)"
      ],
      "execution_count": null,
      "outputs": []
    },
    {
      "cell_type": "code",
      "metadata": {
        "id": "BVtpAoMgrTIC"
      },
      "source": [
        "keys = [\"title\", \"summary\", \"free\", \"genre\", \"installs\", \"ratings\", \"price\", \"size\", \n",
        "        \"contentRating\", \"reviews\", \"released\", \"adSupported\", \"sale\", \"score\", \"similarApps\", \"version\"]\n",
        "APP = []\n",
        "\n",
        "for result in RESULT:\n",
        "  appDetail2 = {key: result[key] for key in keys }\n",
        "  APP.append(appDetail2)"
      ],
      "execution_count": null,
      "outputs": []
    },
    {
      "cell_type": "code",
      "metadata": {
        "colab": {
          "base_uri": "https://localhost:8080/"
        },
        "id": "De1hX6lVrTKa",
        "outputId": "a06c2c9e-0a85-482c-f8bc-f8c0c65d6d80"
      },
      "source": [
        "tools_data_df = pd.DataFrame(APP)\n",
        "len(tools_data_df)"
      ],
      "execution_count": null,
      "outputs": [
        {
          "data": {
            "text/plain": [
              "78"
            ]
          },
          "execution_count": 38,
          "metadata": {},
          "output_type": "execute_result"
        }
      ]
    },
    {
      "cell_type": "code",
      "metadata": {
        "id": "mVeIveLXrTMq"
      },
      "source": [
        "tools_data_df.to_csv(\"/content/drive/MyDrive/Naija Apps & Review/new csvs/tools.csv\", index=False)"
      ],
      "execution_count": null,
      "outputs": []
    },
    {
      "cell_type": "markdown",
      "metadata": {
        "id": "_UuGDX7YXADN"
      },
      "source": [
        "# Social Apps\n"
      ]
    },
    {
      "cell_type": "code",
      "metadata": {
        "id": "nV6-ht2CrTPg"
      },
      "source": [
        ""
      ],
      "execution_count": null,
      "outputs": []
    },
    {
      "cell_type": "code",
      "metadata": {
        "id": "1PXpMKeZXWrh"
      },
      "source": [
        "ngApps = [\"equiis.flaim.im\", \"com.appsinnovation.nigeriandatingappchatsingles\", \"com.apostolicfaith.app.heritage\", \"com.tenacity.android.yoruba\",\n",
        "          \"com.ionicframework.ayele527471\", \"com.breketeconnect.Timeline.up\", \"com.naijatango.action\", \"com.mnr.doaji.mnr_app\",\n",
        "          \"com.bitprime.com.tatisis\", \"com.app.zamani\", \"net.techrunch.petals.app\", \"com.ilooloo.android\",\n",
        "          \"com.tbestovo.naira\", \"hausa.chat\", \"com.chateko.admin.chatapp\", \"com.andromo.dev726033.app849504\",\n",
        "          \"com.tectutive.effizzie\", \"com.shoutcast.stm.radiosalvaciongenerallagos\", \"com.links.gbolissimo16\", \"com.didar.mobile.nairasearch\",\n",
        "          \"com.cellcore.folowr\", \"cssbode.app.webview\", \"nigerians.konnect\", \"appnigerianlawforumcom.wpapp\",\n",
        "          \"com.bigsemite.almuktab\", \"com.clovee.talants\", \"com.diasporanigeria\", \"com.meetnaija.com.app\",\n",
        "          \"com.mobimaticbuilder.app.android5b228d98b9d081\", \"com.naija.naijasocial\", \"com.nigeriaphonebook\", \"com.socliqapps.naijaqna\",\n",
        "          \"ng.com.itage.app\", \"online.naijaworld.app\", \"reliablewebhosting.edo.state\", \"com.vicilook.app\",\n",
        "          \"com.dreammesh.app.olync\", \"com.decodershub.infraread\", \"com.ojaahia.android\", \"com.oreofe.cot\",\n",
        "          \"com.project.ksih_android\", \"com.apps.deecid\", \"com.bauchi.wusur\", \"com.citizenx.mobile\",\n",
        "          \"com.dev.gaspercloud.tweecampus.webtoapp\", \"com.evap.app\", \"lfc.goyal.apk\",\n",
        "          \"ng.naija.statussaver\", \"com.boo.naijaface\", \"com.gappsy.dashboard.www.android5f111d8fafc1c\", \"com.raoatech.dottysoft\",\n",
        "          \"grace.inspirations3\", \"hostnownow.nncp\", \"ibomgreetings.ibomgreetings\", \"xyz.appmaker.fjbler\"]\n",
        "       \n",
        "RESULT = []\n",
        "\n",
        "for ngApp in ngApps:\n",
        "  result2 = app(\n",
        "      app_id = ngApp,\n",
        "      lang='en', # defaults to 'en'\n",
        "      country='ng' # set country to 'ng'\n",
        "  )\n",
        "  RESULT.append(result2)"
      ],
      "execution_count": null,
      "outputs": []
    },
    {
      "cell_type": "code",
      "metadata": {
        "id": "lG2R8tJxrTSc"
      },
      "source": [
        "keys = ['appId', 'summary', 'free', 'genre', 'installs', 'ratings', 'price', 'size', \\\n",
        "        'contentRating', 'reviews', 'released', 'adSupported', 'sale', 'editorsChoice']\n",
        "APP = []\n",
        "\n",
        "for result in RESULT:\n",
        "  appDetail2 = {key: result[key] for key in keys }\n",
        "  APP.append(appDetail2)"
      ],
      "execution_count": null,
      "outputs": []
    },
    {
      "cell_type": "code",
      "metadata": {
        "colab": {
          "base_uri": "https://localhost:8080/"
        },
        "id": "6J75zJCarTVK",
        "outputId": "402f8a31-c01f-400e-f1c5-e7596f99b0bd"
      },
      "source": [
        "social_data_df = pd.DataFrame(APP)\n",
        "len(social_data_df)"
      ],
      "execution_count": null,
      "outputs": [
        {
          "data": {
            "text/plain": [
              "55"
            ]
          },
          "execution_count": 32,
          "metadata": {},
          "output_type": "execute_result"
        }
      ]
    },
    {
      "cell_type": "code",
      "metadata": {
        "id": "PCaH33EUrTXi"
      },
      "source": [
        "social_data_df.to_csv(\"/content/drive/MyDrive/Gameplay_data/social.csv\", index=False)"
      ],
      "execution_count": null,
      "outputs": []
    },
    {
      "cell_type": "markdown",
      "metadata": {
        "id": "4xMiVvoHmmEB"
      },
      "source": [
        "# Medical Apps\n"
      ]
    },
    {
      "cell_type": "code",
      "metadata": {
        "id": "wzJB55-xrTZq"
      },
      "source": [
        "ngApps = [\"com.itmedicus.emdex\", \"ng.twoam.mhsmobile\", \"com.privedoc\", \"com.tbstarr\", \"com.dokitapatient\",\n",
        "          \"com.andromo.dev711098.app1075424\", \"com.lafiya.telehealth\", \"com.evolveIT.nhsconference\", \"com.drugstoc.app\", \"com.politrixtech.developer.anchorhmo\",\n",
        "          \"ng.com.telemed.patientapp\", \"ng.com.uchsopapp\", \"com.signaladoc.doctor\", \"com.trusoftng.medworka\", \"com.withings.wiscale2\",\n",
        "          \"com.blogspot.nigerianemergency.nigerianemergency\", \"com.fastwiretech.maxhealth\", \"com.fussiontech.bthdcpatientportal\", \"com.talamus.community.ogun\",\n",
        "          \"com.wazobia.medical.chatapp\", \"com.unilag.pharmaceuticals.portal\", \"com.app.emdlinkllc.emdlink\"]\n",
        "       \n",
        "RESULT = []\n",
        "\n",
        "for ngApp in ngApps:\n",
        "  result2 = app(\n",
        "      app_id = ngApp,\n",
        "      lang='en', # defaults to 'en'\n",
        "      country='ng' # set country to 'ng'\n",
        "  )\n",
        "  RESULT.append(result2)"
      ],
      "execution_count": null,
      "outputs": []
    },
    {
      "cell_type": "code",
      "metadata": {
        "id": "2VJOSvoTt3vJ"
      },
      "source": [
        "keys = [\"title\", \"summary\", \"free\", \"genre\", \"installs\", \"ratings\", \"price\", \"size\", \n",
        "        \"contentRating\", \"reviews\", \"released\", \"adSupported\", \"sale\", \"score\", \"similarApps\", \"version\"]\n",
        "\n",
        "APP = []\n",
        "\n",
        "for result in RESULT:\n",
        "  appDetail2 = {key: result[key] for key in keys}\n",
        "  APP.append(appDetail2)"
      ],
      "execution_count": null,
      "outputs": []
    },
    {
      "cell_type": "code",
      "metadata": {
        "colab": {
          "base_uri": "https://localhost:8080/"
        },
        "id": "pRyptNoKrTe2",
        "outputId": "a1106d73-9613-46c1-a1f7-eb5891f50117"
      },
      "source": [
        "medical_data_df = pd.DataFrame(APP)\n",
        "len(medical_data_df)"
      ],
      "execution_count": null,
      "outputs": [
        {
          "data": {
            "text/plain": [
              "22"
            ]
          },
          "execution_count": 6,
          "metadata": {},
          "output_type": "execute_result"
        }
      ]
    },
    {
      "cell_type": "code",
      "metadata": {
        "id": "NDkivLtorThY"
      },
      "source": [
        "medical_data_df.to_csv(\"/content/drive/MyDrive/Naija Apps & Review/new csvs/medical.csv\", index=False)"
      ],
      "execution_count": null,
      "outputs": []
    },
    {
      "cell_type": "markdown",
      "metadata": {
        "id": "V157VP5fuBFt"
      },
      "source": [
        "# Transportation Apps\n"
      ]
    },
    {
      "cell_type": "code",
      "metadata": {
        "id": "Uk05FzVcrTmF"
      },
      "source": [
        "ngApps = [\"com.buyusedcars.nigeria\", \"com.carmartng.car\", \"com.wizarpos.abujainspector\", \"com.hmsm.lcccustomer\",\n",
        "          \"com.usedcars.nigeria\", \"com.mykab.driver\", \"com.autochek.buysalefixcars\", \"com.nigeria.autoparts\", \"com.carpartsnigeria\",\n",
        "          \"com.carviva.mobile\", \"com.appworldng.ladipo\", \"com.cliq.user\", \"com.autorescue.app\", \"ng.com.tsgidrivers\",\n",
        "          \"aigitsolutions.com.nycnanambrastatechaptervehicle\", \"com.cochenativeandroid\", \"com.partzshop\", \"ng.webautos\", \"com.secy247.taxicustomer\"\n",
        "          ]\n",
        "       \n",
        "RESULT = []\n",
        "\n",
        "for ngApp in ngApps:\n",
        "  result2 = app(\n",
        "      app_id = ngApp,\n",
        "      lang='en', # defaults to 'en'\n",
        "      country='ng' # set country to 'ng'\n",
        "  )\n",
        "  RESULT.append(result2)"
      ],
      "execution_count": null,
      "outputs": []
    },
    {
      "cell_type": "code",
      "metadata": {
        "id": "ecwjTsVprTpF"
      },
      "source": [
        "keys = [\"title\", \"summary\", \"free\", \"genre\", \"installs\", \"ratings\", \"price\", \"size\", \n",
        "        \"contentRating\", \"reviews\", \"released\", \"adSupported\", \"sale\", \"score\", \"similarApps\", \"version\"]\n",
        "APP = []\n",
        "\n",
        "for result in RESULT:\n",
        "  appDetail2 = {key: result[key] for key in keys }\n",
        "  APP.append(appDetail2)"
      ],
      "execution_count": null,
      "outputs": []
    },
    {
      "cell_type": "code",
      "metadata": {
        "colab": {
          "base_uri": "https://localhost:8080/"
        },
        "id": "A-vLQOqZrTrE",
        "outputId": "4e6d7d4d-b2c1-42a6-f54a-cf2858b7ae53"
      },
      "source": [
        "transport_data_df = pd.DataFrame(APP)\n",
        "len(transport_data_df)"
      ],
      "execution_count": null,
      "outputs": [
        {
          "data": {
            "text/plain": [
              "19"
            ]
          },
          "execution_count": 44,
          "metadata": {},
          "output_type": "execute_result"
        }
      ]
    },
    {
      "cell_type": "code",
      "metadata": {
        "id": "KESEP4K7rTt6"
      },
      "source": [
        "transport_data_df.to_csv(\"/content/drive/MyDrive/Naija Apps & Review/new csvs/transport.csv\", index=False)"
      ],
      "execution_count": null,
      "outputs": []
    },
    {
      "cell_type": "markdown",
      "metadata": {
        "id": "0JbwDpGxzfes"
      },
      "source": [
        "# Media & Videos / Weather / Photography/ Comics/ Libraries & Demos Apps\n",
        "\n"
      ]
    },
    {
      "cell_type": "code",
      "metadata": {
        "id": "cqzoyVAorTyZ"
      },
      "source": [
        "ngApps = [\"com.mountzion.adeosun.videotube\", \"com.ekreative.ohbox\", \"com.andromo.dev701988.app830637\", \"com.andromo.dev803101.app939369\", \"com.algaita\",\n",
        "          \"com.films.hausalatest\", \"com.tulix.myafricandroidtabapp\", \"com.adeosun.naijachristianfilms\", \"so.danginmutuwa\", \"com.tulix.mynaijapackgoogletvapp\",\n",
        "          \"com.andromo.dev803101.app993143\", \"np.com.parasnath.gracetv\", \"ovh.sauzanaprod.meteonigeria\", \"net.fraja_maroc.weather_nigeria\",\n",
        "          \"com.EricBrou.nigeria_weather\", \"com.weather.weathertoday.nigeriaweatherforecast\", \"com.jmt.emma_goodluck\", \"com.andromo.dev663676.app657192\", \"com.andromo.dev701988.app809527\",\n",
        "          \"com.andromo.dev936209.app1071145\", \"com.zaafirahwmd.nwallpapers\", \"com.sm.nzc\",  \"com.andromo.dev663676.app676569\", \"com.involvio.uwaprod.src\", \"com.gagglesmobile.naijacomedyvideos\"\n",
        "          ]\n",
        "       \n",
        "RESULT = []\n",
        "\n",
        "for ngApp in ngApps:\n",
        "  result2 = app(\n",
        "      app_id = ngApp,\n",
        "      lang='en', # defaults to 'en'\n",
        "      country='ng' # set country to 'ng' \n",
        "  )\n",
        "  RESULT.append(result2)"
      ],
      "execution_count": null,
      "outputs": []
    },
    {
      "cell_type": "code",
      "metadata": {
        "id": "m4U61gtvrT0q"
      },
      "source": [
        "keys = [\"title\", \"summary\", \"free\", \"genre\", \"installs\", \"ratings\", \"price\", \"size\", \n",
        "        \"contentRating\", \"reviews\", \"released\", \"adSupported\", \"sale\", \"score\", \"similarApps\", \"version\"]\n",
        "APP = []\n",
        "\n",
        "for result in RESULT:\n",
        "  appDetail2 = {key: result[key] for key in keys }\n",
        "  APP.append(appDetail2)"
      ],
      "execution_count": null,
      "outputs": []
    },
    {
      "cell_type": "code",
      "metadata": {
        "colab": {
          "base_uri": "https://localhost:8080/"
        },
        "id": "ry0YbbifrT4J",
        "outputId": "c0a01b23-d668-4980-d361-caf095f57545"
      },
      "source": [
        "media_data_df = pd.DataFrame(APP)\n",
        "len(media_data_df)"
      ],
      "execution_count": null,
      "outputs": [
        {
          "data": {
            "text/plain": [
              "25"
            ]
          },
          "execution_count": 17,
          "metadata": {},
          "output_type": "execute_result"
        }
      ]
    },
    {
      "cell_type": "code",
      "metadata": {
        "id": "lqOM5Icrw71k"
      },
      "source": [
        "media_data_df.to_csv(\"/content/drive/MyDrive/Naija Apps & Review/new csvs/media.csv\", index=False)"
      ],
      "execution_count": null,
      "outputs": []
    },
    {
      "cell_type": "markdown",
      "metadata": {
        "id": "RvgAUt0y898F"
      },
      "source": [
        "# Productivity Apps\n"
      ]
    },
    {
      "cell_type": "code",
      "metadata": {
        "id": "4VoTjie6UHKN"
      },
      "source": [
        "\"net.one97.selfcare.globacom\", \"apps.envision.koinonia\", \"com.peterstev.lawonlinereportnigeria\", \"report.pebec.pebecapp\", \"com.cwg.ucpmobile\",\n",
        "          \"com.ulogi.tailorpro2015\", \"com.CT.NAIRAMONEY\", \"ng.postwanga\",\n",
        "          \"org.hpgafrica.app\", \"com.acgg.smallholder\", \"com.ugarsoft.chyma.iwin\",          \n",
        "          \"easyacesynergy.church.com\", \"com.prepaymentsolutions.dove\", \"com.graceapp.johndata.nairadata\", \"com.daniel.earn_type\",\n",
        "          \"com.apc_em.android\", \"kwasu.elkanahtech.com.kwasu\", \"com.polistats\", \"com.bitwealthsystems.trcncbtpastquestions\", \"nigeria.highway.code.nigeriahighwaycode\",\n",
        "          \"ng.echurch.mobile.android\", \"com.tajaplus\", \"gov.fctubeb.fctubeb\", \"com.apc_em_plus.android\",\n",
        "          \"com.devinckeyboard.easytypinghausakeyboardfontsandthemes\", \"com.legalpedia.mobile\", \"com.pramopro.app\", \"com.funmiquadrionline.ftv2\", \"com.ocheejeh.networknigeria\",\n",
        "          \"com.sheriff.ussdplus\", \"com.solutarisllc.InfoWareFinance\", \"com.meron.app\", \"lw.lagos.water\", \"club.appcanvas.www.android5f514eee92282\",\n",
        "          \"com.actd.actd\", \"com.app.fast.jobs\", \"com.app.uecutako\", \"com.ideliver.ng\","
      ],
      "execution_count": null,
      "outputs": []
    },
    {
      "cell_type": "code",
      "metadata": {
        "colab": {
          "background_save": true
        },
        "id": "Mg5XPl5TJDm6"
      },
      "source": [
        "ngApps = [\n",
        "           \"com.jaffatech.fctwbMeterReader\", \"com.new_naija.lambe_blog_hub_forum\", \"com.plagtibmobile.login.android5e5cb4ed044c9\", \"com.thenanolab.dangote.outdoor.tracking.android\",\n",
        "          \"com.bw.etaxcard.enugu\", \"com.lgmap\", \"com.medialabwca.medialens\", \"com.phonegap.oshodibc\", \"com.plovtech.tagng\",\n",
        "          \"com.voicetyping.keyboard.newnigeriaenglish\", \"com.cruizelogistics\", \"com.a2lng.smartpet\", \"com.androiddeft.loginandregistration2\",\n",
        "          \"com.appswits.kachikwu\", \"com.assistance.call4paapp\", \"com.gcmx.gcmxfarmer\", \"com.gfair.wc\", \"com.gmail.just.jctechnical\",\n",
        "          \"com.ovp\", \"com.kwirs.app\", \"com.my.naija.browser.mts\", \"com.petalloids.riabani\", \"com.plovtech.reportitng\",\n",
        "          \"com.reinsys.apps.conferencing.innovention\", \"com.vaaaninfra.tollmaxmind\", \"com.LagosEnerji.LagosPI\", \"com.cloveebiz.jobs\", \"org.femcas.app.production\",\n",
        "          \"com.petalloids.app.aquamou\", \"com.tratadoIfaTomo3.app\", \"ioptime.com.agentpersonal\"\n",
        "          ]\n",
        "       \n",
        "RESULT = []\n",
        " \n",
        "for ngApp in ngApps:\n",
        "  result2 = app(\n",
        "      app_id = ngApp,\n",
        "      lang='en', # defaults to 'en'\n",
        "      country='ng' # set country to 'ng'\n",
        "  )\n",
        "  RESULT.append(result2)"
      ],
      "execution_count": null,
      "outputs": []
    },
    {
      "cell_type": "code",
      "metadata": {
        "id": "fE4eMPH-7cng"
      },
      "source": [
        "keys = ['appId', 'summary', 'free', 'genre', 'installs', 'ratings', 'price', 'size', \\\n",
        "        'contentRating', 'reviews', 'released', 'adSupported', 'sale', 'editorsChoice']\n",
        "APP = []\n",
        "\n",
        "for result in RESULT:\n",
        "  appDetail2 = {key: result[key] for key in keys }\n",
        "  APP.append(appDetail2)"
      ],
      "execution_count": null,
      "outputs": []
    },
    {
      "cell_type": "code",
      "metadata": {
        "colab": {
          "base_uri": "https://localhost:8080/"
        },
        "id": "QFNVKC957cq_",
        "outputId": "fca64e0c-417d-4c45-b739-b61b6ad5ceec"
      },
      "source": [
        "productivity_data_df = pd.DataFrame(APP)\n",
        "len(productivity_data_df)"
      ],
      "execution_count": null,
      "outputs": [
        {
          "data": {
            "text/plain": [
              "75"
            ]
          },
          "execution_count": 53,
          "metadata": {},
          "output_type": "execute_result"
        }
      ]
    },
    {
      "cell_type": "code",
      "metadata": {
        "id": "3CYOXWh2w6QS"
      },
      "source": [
        "productivity_data_df.to_csv(\"/content/drive/MyDrive/Gameplay_data/productivity.csv\", index=False)"
      ],
      "execution_count": null,
      "outputs": []
    },
    {
      "cell_type": "markdown",
      "metadata": {
        "id": "ZGJ91uB_8yFx"
      },
      "source": [
        "# Education Apps"
      ]
    },
    {
      "cell_type": "code",
      "metadata": {
        "id": "I3oCoUJ-7cue"
      },
      "source": [
        "ngApps = [\"com.myschool.cbt\", \"com.learnsolo.hausadictionaryoffline\", \"com.hemdbibles.holybible.bibiliyayera\", \"com.learnsolo.yorubadictionaryoffline\",\\\n",
        "          \"com.sadiksalihu.fassararlittafinkawaaidi\", \"com.axumtechnologies.jambite\", \"com.jamb\", \"com.andromo.dev682265.app1021962\", \\\n",
        "          \"com.hasbi\", \"com.saifmanstudio.MuKoyiLarabci\", \"com.andromo.dev735222.app836239\", \"com.andromo.dev673098.app675240\",\n",
        "          \"diwani.sheikhibrahiminyass.warash\", \"com.andromo.dev542547.app601355\", \"com.felinkotech.superenglishandigbobible\", \"com.happydev4u.hausaarabictranslator\",\n",
        "          \"kamus.com.ng\", \"com.andromo.dev735222.app837654\", \"quranwarash.sherifbala.sagware\", \"com.andromo.dev764750.app1027765\",\n",
        "          \"com.appsng.knowyourright\", \"com.translator.english.hausa.dictionary\", \"alldictdict.alldict.yoen\", \"air.caster.fm.bvi\",\n",
        "          \"org.daystarng.mobileapp\", \"com.andromo.dev775341.app975283\", \"com.hemdbibles.holybible.hausabible\", \"com.andromo.dev677517.app700954\",\n",
        "          \"com.jamb.portal.ng\", \"com.andromo.dev701988.app885662\", \"com.bar.ghost.vite\", \"in.softecks.agricultureengineering\",\n",
        "          \"com.WAEC.Portal\", \"forever.living.products.catalogue.foreverlivingproductscatalogue\", \"com.iafsawii.flashlearners.jambcbt\", \"com.andromo.dev701988.app876584\",\n",
        "          \"com.brimatel.utmeapp\", \"en.ig.bestdict\", \"com.appybuilder.hiidrees24.Result_Checker\", \"com.iafsawii.nigerianscholars\",\n",
        "          \"com.wrdhausa.enghausa\", \"com.jambcbt.practice\", \"com.resultchecker.app\", \"com.andromo.dev553557.app608613\",\n",
        "          \"com.postUTME.big9ja\", \"hubbrimatel.faceyourbook_unilag\", \"com.petalloids.e_learningng\", \"com.shex.beginnerhausa\",\n",
        "          \"com.app.ncee\", \"com.schoolonair.lessonteacher\", \"com.shex.beginneryoruba\", \"com.marke.abuzaria\",\n",
        "          \"com.andromo.dev701988.app885474\", \"io.cordova.SpeakEfik_Ibibio\", \"com.indomiefanclubapp.app\", \"com.mplgmg.Yoruba_Proverbs\",\n",
        "          \"com.ultimateappmaker.learnefikandroid\", \"com.andromo.dev788875.app1004206\", \"com.newandromo.dev6747.app796826\", \"com.mobyworld.npf\",\n",
        "          \"com.PeterOla.jambites\", \"com.brimatel.postutmeoau\", \"com.threeetechnologies.edolanguagedictionary\", \"prosperous.kabimba\",\n",
        "          \"com.bappakano.Rayuwa_Bayan_Mutuwa\", \"com.andromo.dev491197.app649061\", \"com.andromo.dev542547.app991920\", \"com.nibo.PillarApp\",\n",
        "          \"com.unimaid.cdlapp\", \"com.tedif.NigerianLawApp\", \"com.chisom.igboamaka\", \"ng.edu.ibbu.ibbulcalc\",\n",
        "          \"com.app.islamicfatwa\", \"com.divinedigitalxp.oau.eportal\", \"com.nightowltechnology.asimyaz.nileconnect\", \"com.omotayo.lasumonitor\",\n",
        "          \"ng.gov.nysc.nyscmobileapp11\", \"com.nigeria.universities.info\", \"com.iafsawii.smashexams.ssce\", \"com.andromo.dev238579.app222339\",\n",
        "          \"com.andromo.dev764750.app1025089\", \"uk.adolo.davidoyedepo\", \"com.hotnigerianjobs\", \"ng.learnathome\",\n",
        "          \"hausa.novels\", \"com.jobcitynig.app\", \"ng.softcom.mtnfdml\", \"optimusprime.user.newigbo\",\n",
        "          \"co.jorah.xglih\", \"ng.com.sass.bethanyhall\", \"com.romeo.nigerianencyclopedia\", \"com.twogbs.yor.ijiroroibapadejesu\",\n",
        "          \"com.nimitir.thevalecollege\", \"com.akpoleleji.optimusprime.yorubatutor\", \"com.app.nim\", \n",
        "          \"nigeria.studentchat\", \"io.diduvin\", \"io.kodular.binsulaiman19.HAUSALAND\",\n",
        "          \"com.wScholarshipsinNigeria_12763365\", \"com.worldclasscollege.starsinternationalcollege\", \"com.mobimaticbuilder.app.android5ac899d1c6188\", \"com.paulidornigie.app\",\n",
        "          \"appinventor.ai_onwubuyakingsley.YearBook\", \"com.edubase.app\", \"appinventor.ai_king_mamus.ThresholdCollege\", \"the.culturalheritagefreetextbook\",\n",
        "          \"org.rescue.classbookng\", \"org.syresoft.speph\", \"ng.com.schoolangel.thehawthorn\", \"ng.greenspek.phonetics\",\n",
        "          \"ng.com.sass.samo\", \"ng.com.schoolangel.footstepsschool\", \"ng.com.sass.pearl\", \"ng.com.sass.preston\",\n",
        "          \"ng.com.sass.emilio\", \"ng.com.sass.greenberryfield\", \"ng.com.sass.chs\", \"nevs.beta.apk\",\n",
        "          \"nfde.kdl.com.ng\", \"naija.app.webview\", \"microuserng.com.dialectschool\", \"io.cordova.jblweblearning\",\n",
        "          \"kalac.schools\",  \"com.worldclasscollege.www.appgoshen\", \"com.university.of.nigeria\",\n",
        "          \"io.cordova.jblweblearning\", \"io.kodular.fasttellerreferral.RAGP2021\", \"com.stvincentdepaul.sch.ng\",\n",
        "          \"com.reinsys.apps.preschool.poshoak\", \"com.petalloids.app.uniport\", \"com.my.glriousschools\", \"com.ifarmreality.app\",\n",
        "          \"com.happydev4u.igbojapanesetranslator\", \"com.gbolissimo.uillb18\", \"com.myclasscampus.divineinternationalschool\",\n",
        "          \"com.echotronicsng.wcphcapp\", \"com.copel.teachthechild\", \"com.agricapp\", \n",
        "          \"com.andromo.dev677432.app1034003\", \"com.TAASCBenin_092010\", \"com.buynigerianliterature.com\",\n",
        "          \"alpha.rehobothparent\", \"com.maocular.wafcol\", \"com.raoatech.eelwapp\", \n",
        "          \"ng.com.schoolangel.greenwoodschool\", \"ng.edu.salemuniversity.salemuniversitylokoja\", \"ng.com.gbestnigeria.gbestpolytechnicspostutme\", \n",
        "          \"com.shex.startfromzero_hausa\", \"com.sun.edu\", \"com.scoolnetwork.myclass\", \"com.rolaay.oyomesiseries\",\n",
        "          \"com.pixelsng.lgssabuja\", \"com.pjp2modelschool.popejohnpauliisecschmbaise\", \"com.petalloids.app.mouau\", \"com.nimitir.thebellsschools\",\n",
        "          \"com.imabuilder.kodekribtechnologies.comlagipaja\", \"com.newandromo.dev767961.app891014\", \"com.eedu\",\n",
        "          \"com.dailyrevelation\", \"com.andromo.dev798675.app922399\", \"coursedig.com\", \"org.moonsat.nappsapp\",\n",
        "          \"ng.hybrid.yearonesuite\", \"com.NuhuBamalliPoly\", \"info.kanemfm.unimaidradio\", \"com.youthnomics\",\n",
        "          \"com.schoolmasterguide.ui\", \"com.pixelsng.rpcabuja2\", \"com.naijapoetry.app\", \"com.neplatform\",\n",
        "          \"com.lasoapp.android\", \"com.lanrecool35.Abesabesi\", \"com.hocro.holyapp\", \"com.graduway.lagos\",\n",
        "           \"com.companyname.darulshukrm\", \"com.app.ibadaninternationalschool\", \"com.apps.bsn\",\n",
        "          \"com.andromo.dev764750.app1052698\", \"com.andromo.dev700805.app910111\", \"com.andromo.dev459376.app973975\", \n",
        "          \"alawasin.minal.qawasim\", \"com.NOGC.NationalOilAndGasCases\", \"abcel.academy\", \"com.ncdevfest.devfest\",\n",
        "          \"com.andromo.dev836041.app997992\", \"org.capronig.caproppc.ppcnig\", \"com.live.varsityscape\", \"app.fashioneer.com.mnutrition\",\n",
        "          \"ng.edu.baulms\", \"ng.com.alliedcomputers.nigeriaparamilitaryapp\", \"com.sof.sof\", \"com.ni.NigeriaScout\",\n",
        "          \"com.ncs.nocanda.ncsexam\", \"e.igb.ogitechapp\", \"com.go2uni\", \"com.samkecy.naitesapp\",\n",
        "          \"com.polyibadanarena.ng\", \"mobi.kunku.app\", \"com.andromo.dev897326.app1026236\", \"com.gbolissimo.legalit\",\n",
        "          \"springlight.ng.researchclue\", \"com.hiidrees24.ZainabMusa_RAGP\", \"ng.edu.nti.lms.app\", \"com.unizik.nau\",\n",
        "         \"com.angel.frenchyoruba\", \"com.company.UNNMAPP\", \"com.forestsoftware.kands\", \"com.rolaay.gstpq\"]\n",
        "\n",
        "#ngApps.index(\"com.adminapps.android5ab383226278d\"))\n",
        "#ngApps.pop(95)\n",
        "#ngApps = [x for x in ngApps1 if x != \"com.adminapps.android5ab383226278d\" ]\n",
        "\n",
        "RESULT = []\n",
        " \n",
        "for ngApp in ngApps:\n",
        "  #print(ngApp)\n",
        "  result2 = app(\n",
        "      app_id = ngApp,\n",
        "      lang='en', # defaults to 'en'\n",
        "      country='ng' # set country to 'ng'\n",
        "  )\n",
        "  RESULT.append(result2)"
      ],
      "execution_count": null,
      "outputs": []
    },
    {
      "cell_type": "code",
      "metadata": {
        "id": "ULklk01p7cxO"
      },
      "source": [
        "keys = [\"title\", \"summary\", \"free\", \"genre\", \"installs\", \"ratings\", \"price\", \"size\", \n",
        "        \"contentRating\", \"reviews\", \"released\", \"adSupported\", \"sale\", \"score\", \"similarApps\", \"version\"]\n",
        "APP = []\n",
        "\n",
        "for result in RESULT:\n",
        "  appDetail2 = {key: result[key] for key in keys }\n",
        "  APP.append(appDetail2)"
      ],
      "execution_count": null,
      "outputs": []
    },
    {
      "cell_type": "code",
      "metadata": {
        "colab": {
          "base_uri": "https://localhost:8080/"
        },
        "id": "87HsBdoe7c1G",
        "outputId": "8f04499e-044c-4514-e2a0-c12c8052d918"
      },
      "source": [
        "education_data_df = pd.DataFrame(APP)\n",
        "len(education_data_df)"
      ],
      "execution_count": null,
      "outputs": [
        {
          "data": {
            "text/plain": [
              "221"
            ]
          },
          "execution_count": 57,
          "metadata": {},
          "output_type": "execute_result"
        }
      ]
    },
    {
      "cell_type": "code",
      "metadata": {
        "id": "6FDAamv77c3L"
      },
      "source": [
        "education_data_df.to_csv(\"/content/drive/MyDrive/Colab Notebooks/education.csv\", index=False)"
      ],
      "execution_count": null,
      "outputs": []
    },
    {
      "cell_type": "markdown",
      "metadata": {
        "id": "cXo6rn0h0zRZ"
      },
      "source": [
        "# Music & Audio Apps\n"
      ]
    },
    {
      "cell_type": "code",
      "metadata": {
        "id": "UT6hJ_oG7c-R"
      },
      "source": [
        "ngApps = [\"com.duaqunut.alqunootoffline\", \"tekno.miles\", \"com.andromo.dev553557.app957294\", \"com.andromo.dev391844.app576733\",\n",
        "          \"com.doceapps_alcorao_audio_hausa.doceapps_alcorao_audio_hausa\", \"com.andromo.dev693396.app725108\", \"com.andromo.dev137436.app441993\", \"com.andromo.dev454490.app518187\",\n",
        "          \"nigeria.comedy.sound.effect.meme\", \"com.andromo.dev626263.app695362\", \"com.radio.humanrights\", \"com.andromo.dev663676.app670781\",\n",
        "          \"com.allaboutradio.radiofmnigeria\", \"com.andromo.dev693396.app727138\", \"com.wordbox.hausaRadio\", \"ng.groove.udux\",\n",
        "          \"com.easyapps4free.nigeria\", \"com.andromo.dev693396.app729661\", \"com.deltreetech.tachymns\",\n",
        "          \"com.ascenso.iroking\", \"com.andromo.dev663676.app681569\", \"com.andromo.dev775341.app974687\", \"com.andromo.dev492494.app655398\",\n",
        "         \"com.andromo.dev492494.app658425\", \"com.andromo.dev663676.app666883\", \"com.audionowdigital.player.freshfm\", \"com.andromo.dev614087.app1001809\",\n",
        "          \"com.andromo.dev492494.app758530\", \"com.andromo.dev663676.app706650\", \"com.andromo.dev663676.app668353\", \"com.andromo.dev775341.app882680\",\n",
        "          \"com.andromo.dev775341.app914411\", \"com.nigeriainfo.player\", \"com.newandromo.dev964507.app1314890\", \"com.app.nigradio\",\n",
        "          \"com.airobarogie.dev27.yorubabibleaudio\", \"com.arewazone.aminu\", \"com.andromo.dev391844.app568197\", \"com.andromo.dev452380.app468571\",\n",
        "          \"com.andromo.dev542547.app584760\", \"com.andromo.dev775341.app968560\", \"com.prospa.ochimana.nigerian.gospel.songs\", \"com.andromo.dev699080.app1051659\",\n",
        "         \"com.andromo.dev663676.app695357\", \"com.dangargajiyya.sanis\", \"com.andromo.dev391844.app567856\", \"com.andromo.dev856641.app975657\",\n",
        "          \"com.andromo.dev663676.app691748\", \"com.andromo.dev653890.app658400\", \"com.newandromo.dev25281.app830318\", \"com.andromo.dev739265.app999469\",\n",
        "         \"com.andromo.dev653890.app656244\", \"com.andromo.dev765151.app866245\", \"com.andromo.dev803101.app910692\", \"com.andromo.dev775341.app957397\",\n",
        "         \"com.securenetsystems.liveway\", \"com.PSquareMusic.bestsongs\", \"com.SplashFM.Nigeria\",\n",
        "          \"com.arewazone.afra\", \"com.nigeria.music\", \"com.andromo.dev708372.app776532\", \"com.dangargajiyya.goma\",\n",
        "          \"com.andromo.dev856641.app980248\", \"com.andromo.dev137436.app311245\", \"com.andromo.dev663676.app716815\", \"com.azulblaze.catholicgospelsongs\",\n",
        "          \"com.andromo.dev775341.app937253\", \"com.flavour.songs.lasthitrs\", \"k1.deultimatesongs2\", \"com.andromo.dev492494.app691870\",\n",
        "          \"com.andromo.dev137436.app443479\", \"com.andromo.dev775341.app947715\", \"rema.songs.app\", \"com.andromo.dev928687.app1073413\",\n",
        "          \"com.andromo.dev454490.app451946\", \"com.davido.dev.app1072870\", \"com.kundi.umarsanyi\",\n",
        "          \"com.azulblaze.gospelsongs\", \"com.mauliya.Rudeboy\", \"joe.boysongs\", \n",
        "            \"simi.songs2\", \"chinyere.udoma\", \n",
        "          \"fr.mbakasongs.pmv\",  \"com.wazobiafm.player\", \"com.nobexinc.wls_9313970516.rc\",\n",
        "           \"com.airobarogie.dev2.edoaudiobible\",  \"com.nextlevelapps.SinachMusicFreeApp\",\n",
        "          \"com.bebettermusica.nathanielbasseymusic\",  \"com.nobexinc.wls_9315463836.rc\", \n",
        "          \"com.newandromo.dev25281.app165977\", \"com.andromo.dev775341.app934333\", \"com.andromo.dev775341.app934333\", \"com.ReekadoBanks.fzb\",\n",
        "          \"com.dankasa.jtwaka\",  \"com.dangargajiyya.uje\", \n",
        "          \"net.andromo.dev715649.app1006548\", \"com.hausastudio.ibro\", \"com.perfectsoft13.beatbox\",\n",
        "          \"com.andromo.dev614087.app999747\", \"olamide.android.app\", \n",
        "          \"com.andromo.dev626263.app655058\", \"com.mikeoki.oki.mikeoki.oki.divinemessage\", \"com.PATON.songs.lasthits\", \"com.CityFM.Nigeria\",\n",
        "          \"com.radio.m4531a80a6\", \"uk.radio.lagosjump\", \"com.app.fqucxzbnjthrtmezeklpxramgwikwysfdypgoihcbd\", \"com.o2tech.apostolicflameradio\",\n",
        "          \"com.arewa.labarinkirkira\", \"com.nobexinc.wls_20976213.rc\", \"com.newandromo.dev2092.app69579\", \"com.app.thrilliantnigeriamaxfmng\",\n",
        "          \"com.phnoo.songs.zahrahits\", \"fm.adaba889.myradio\", \"com.andromo.dev282856.app267659\",\n",
        "          \"com.jacapps.urban96\", \"com.nobexinc.wls_10100589.rc\", \"com.radio.mce688d9c4\", \"com.newandromo.dev25281.app681914\",\n",
        "           \"com.ahamefula.rosarynigbofree\", \"com.joe.praize.gospel.songs\", \n",
        "         \"com.nobexinc.wls_07942353.rc\", \"com.newandromo.dev2092.app54522\", \"com.andromo.dev798675.app982804\",\n",
        "           \"com.planetaapps.expressradiokanoonline.expressradiokano\", \"com.eurisko.coolfm\", \"swmr.yoruba.pro\",\n",
        "          \"com.embaxador_team.Human_Rights_Radio_FM_101_1_Abuja_station_Free_Unofficial_station_Free_Unofficial\",  \"com.newandromo.dev500880.app769356\",\n",
        "          \"chukwuemeka.odumejesongsoffline\", \"com.andromo.dev663676.app715551\", \"com.newandromo.dev2092.app45496\",\n",
        "          \"com.radiosmundo.voahausaradioliveappfreeonline\", \"com.shortwaveamfm.lagelufm967ng.lagosradiostations\", \"com.xchrisapps.paulnwaokocha\",  \n",
        "            \"ogene.musicoffline\", \"steve.crown\", \"victor.adsongs\", \n",
        "           \"com.spiritofnigeria.radio\", \"com.app.voicefmekiti\", \"ng.epoh\", \n",
        "          \"com.clovee.admin.solid\",   \"com.andromo.dev282856.app840280\",  \n",
        "          \"com.saifmanstudio.HausaHipHop\", \"com.spiricoco.myapp\"]   \n",
        "RESULT = []\n",
        "\n",
        "for ngApp in ngApps:\n",
        "  #print(ngApp)\n",
        "  result2 = app(\n",
        "      app_id = ngApp,\n",
        "      lang='en', # defaults to 'en'\n",
        "      country='ng' # set country to 'ng'\n",
        "    )\n",
        "  RESULT.append(result2)"
      ],
      "execution_count": null,
      "outputs": []
    },
    {
      "cell_type": "code",
      "metadata": {
        "id": "WsWUhkCYbVjM"
      },
      "source": [
        "keys = [\"title\", \"summary\", \"free\", \"genre\", \"installs\", \"ratings\", \"price\", \"size\", \n",
        "        \"contentRating\", \"reviews\", \"released\", \"adSupported\", \"sale\", \"score\", \"similarApps\", \"version\"]\n",
        "APP = []\n",
        "\n",
        "for result in RESULT:\n",
        "  appDetail2 = {key: result[key] for key in keys }\n",
        "  APP.append(appDetail2)"
      ],
      "execution_count": null,
      "outputs": []
    },
    {
      "cell_type": "code",
      "metadata": {
        "colab": {
          "base_uri": "https://localhost:8080/"
        },
        "id": "MH81R0KMbvD5",
        "outputId": "e6da7ec5-3678-4f45-8269-5710ada4f5ff"
      },
      "source": [
        "music_data_df = pd.DataFrame(APP)\n",
        "len(music_data_df)"
      ],
      "execution_count": null,
      "outputs": [
        {
          "data": {
            "text/plain": [
              "170"
            ]
          },
          "execution_count": 61,
          "metadata": {},
          "output_type": "execute_result"
        }
      ]
    },
    {
      "cell_type": "code",
      "metadata": {
        "id": "o0xN8ZuoEuGb"
      },
      "source": [
        "music_data_df.to_csv(\"/content/drive/MyDrive/Colab Notebooks/musicAudio.csv\", index=False)"
      ],
      "execution_count": null,
      "outputs": []
    },
    {
      "cell_type": "markdown",
      "metadata": {
        "id": "mgGH18gWt5q4"
      },
      "source": [
        "# Shopping Apps"
      ]
    },
    {
      "cell_type": "code",
      "metadata": {
        "id": "maC7BQjyt4xx"
      },
      "source": [
        "ngApps = [\"ng.jiji.app\", \"com.opera.olist\", \"com.swapix.ng\", \"com.rivers.sparrewards\",\n",
        "          \"com.easyshopping.ng\", \"com.phone.shop.app\", \"com.dealdey\",\n",
        "          \"com.adams.onlinestore\", \"com.scriptsbundle.erontech\", \"com.g360synergy.oyanow\", \"com.online.shoppingnigeria.nigeriashoppingapp\",\n",
        "          \"com.voloservices.volo\", \"com.shoe.shop\", \"com.webiators.fragrances\", \"com.lianfei.womata\",\n",
        "          \"com.tokenSoft.Femtechit\", \"com.humanhairnigeria.androidapp\", \"com.afromarket.nigeria\", \"com.campusmall.app\",\n",
        "          \"com.sendbox.android\", \"app.ileoja.marketplace\", \"ng.rumfa.app\", \"com.allin1shop.ebony\",\n",
        "          \"ng.nexchange.marketplace\", \"com.shiptonaija.mob\", \"com.nearexpiry.nearexpiry\", \"com.amigo.ng.amigo\",\n",
        "          \"com.obejor.store.ng\", \"com.dino.ng\", \"com.mediawiki.quickmarket\", \"io.cordova.NPK.Mobile\",\n",
        "          \"osales.com\", \"oilperfumes.com.ng\", \"com.newandromo.dev94824.app986364\", \"computer.laptop.shopping.app\",\n",
        "          \"com.clovee.marketplace\", \"com.girls.shop.app\", \"com.mattress.opencart\", \"com.onlineshoppingnigeria.nigeriashopping\",\n",
        "          \"com.delonng.app\", \"com.sclogistics.mob\", \"com.ng.foodlocker.foodlocker\", \"com.ighomall.ighomallapp\",\n",
        "          \"com.naijakobo.naijakobomarket\", \"com.zuta.ng\", \"com.sellfinish.sellfinish\", \"ng.foodruns.app.foodruns\",\n",
        "          \"com.rosifynigeria.rosify\", \"com.dukashops.marketplace\", \"com.ni.ZitElectronics\", \"com.app.p8758EA\",\n",
        "          \"made.release.minp.MINP\", \"com.appdev.MinPriceAlert\", \"com.dammy.android.emarketvendor\", \"com.igbotrade.igbotrade\",\n",
        "          \"ng.martlines\", \"io.ionic.sellfast\", \"com.app.bivudek\", \"com.bellokano.bellokanoc\",\n",
        "          \"com.buy.sell_near_you\", \"com.coffye.fctmarketplace\", \"warrimarket.com\", \"com.maami.maamimarket\",\n",
        "          \"com.men.shop.app\", \"com.mobiroller.mobi903531265812\", \"com.naija.enaija\", \"com.naijaselect.app\",\n",
        "          \"com.ni.Martnextdoor\", \"com.rehmieng\", \"com.tedikomwireless.setbiz\", \"com.yourappscreator.sso.android5d2dd131dce47\",\n",
        "          \"com.viva.vivabizz\", \"com.yourappscreator.sso.android5d2dd131dce47\", \"com.zealiacart.marketplace\", \"ng.ojanaija.android\",\n",
        "          \"com.scriptsbundle.imeafia\", \"ibadanmarket.aplipfv\", \"com.andromo.dev774115.app872787\", \"com.pcplace.pcplacenigeria\",\n",
        "          \"com.spaldino.saveandshopfree\", \"boiboi.app\", \"co.tapcart.app.id_IEASF5Y34v\", \"com.apprikator.oto.android5eb7c68863dbc\",\n",
        "          \"com.computer.village.sellerapp\", \"com.indieinfotech.banex\", \"com.llynmase.mobi\", \"com.paygreens.online\",\n",
        "          \"com.ritelink.ng\", \"com.sightvalue.basestore\", \"com.twentyplov.markets\", \"flaksam.flaksam\",\n",
        "          \"com.coderscage.trulynaija\", \"naijashop247.mobile.app\", \"com.app.otutu\", \"com.app.restpointb\",\n",
        "          \"com.ariaria.online\", \"com.coffye.aquiseluxurie\", \"com.daviella.groceries\", \"com.edward.myapplication\",\n",
        "          \"com.foodquest.app\", \"com.jakachu.app\", \"com.mikky_world\", \"com.ogasir.webseolabs\",\n",
        "          \"com.orinoco.nigeriamultivender\", \"com.tunrockstore.app\", \"com.wBeratyClassifieds_8639389\", \"com.wemartgobal.wematz\",\n",
        "          \"com.wifa.shop\", \"gowns4rent.com.ng\", \"ms.group.qasuwa\", \"com.addysoft.lobbymall\",\n",
        "          \"com.adomart.app\", \"com.justmakeups.justmakeups\", \"com.redsquare.marketplace\", \"com.wfour40cart_10584057\",\n",
        "          \"com.ww50KoboeMart_12672743\", \"miec.online.shop\", \"com.chuvie.floor_ng\", \"com.giftalert365.giftalert365\",\n",
        "          \"com.mashak.store20\", \"com.naija.naijavehicles\", \"com.sun_xstores\", \"com.synthe6online.synthe6online\"]\n",
        "\n",
        "\n",
        "RESULT = []\n",
        "\n",
        "for ngApp in ngApps:\n",
        "  result2 = app(\n",
        "      app_id = ngApp,\n",
        "      lang='en', # defaults to 'en'\n",
        "      country='ng' # set country to 'ng'\n",
        "    )\n",
        "  RESULT.append(result2)"
      ],
      "execution_count": null,
      "outputs": []
    },
    {
      "cell_type": "code",
      "metadata": {
        "id": "cWdTwG9tnGje"
      },
      "source": [
        "keys = ['appId', 'summary', 'free', 'genre', 'installs', 'ratings', 'price', 'size', \\\n",
        "        'contentRating', 'reviews', 'released', 'adSupported', 'sale', 'editorsChoice']\n",
        "APP = []\n",
        "\n",
        "for result in RESULT:\n",
        "  appDetail2 = {key: result[key] for key in keys }\n",
        "  APP.append(appDetail2)"
      ],
      "execution_count": null,
      "outputs": []
    },
    {
      "cell_type": "code",
      "metadata": {
        "colab": {
          "base_uri": "https://localhost:8080/"
        },
        "id": "ZzsnqcALnG-b",
        "outputId": "fc1341ab-adc4-4049-ba37-050481982973"
      },
      "source": [
        "shopping_data_df = pd.DataFrame(APP)\n",
        "len(shopping_data_df)"
      ],
      "execution_count": null,
      "outputs": [
        {
          "data": {
            "text/plain": [
              "123"
            ]
          },
          "execution_count": 6,
          "metadata": {},
          "output_type": "execute_result"
        }
      ]
    },
    {
      "cell_type": "code",
      "metadata": {
        "id": "bG4vUGG-HWPC"
      },
      "source": [
        "shopping_data_df.to_csv(\"shopping.csv\", index=False)"
      ],
      "execution_count": null,
      "outputs": []
    },
    {
      "cell_type": "markdown",
      "metadata": {
        "id": "0ZtGZeaUuI2R"
      },
      "source": [
        "# Business Apps"
      ]
    },
    {
      "cell_type": "code",
      "metadata": {
        "id": "Ra7s7aAD7dAQ"
      },
      "source": [
        "ngApps = [\n",
        "          \"com.greatcallie.engineeringmodeapp\", \"com.jobberman\", \"inksnation.aplictej\", \"com.cardtonic.app\",\n",
        "          \"com.apps.spectranet\", \"com.capricorn.baximobile.app\", \"com.axiom.petroapp\", \"ng.giglogistics.giglgo\",\n",
        "          \"com.pickmeup.partner\", \"com.sellamquick.app\", \"com.inksnation.free\", \"com.speedydata.app\",\n",
        "          \"hostnownow.tokunbocars\", \"com.powerlight.ng\", \"com.nhf.fmbnmobilepro\", \"com.ngo.govjobsnigeria\",\n",
        "          \"com.findmeng\", \"com.smedan.android\", \"com.greatcallie.abokiexchange\", \"lucrativebusinessideas.primex\",\n",
        "          \"com.app.dgvhogjmnybsvtfbphxcqsfmeipwknxkzjaaelrqd\", \"com.algosoft.ogawork\", \"com.ringoplus\", \"com.app.app418ba914f052\",\n",
        "          \"com.smartbcamp.forum\", \"no.mellora.hseq.nb\", \"com.kasuwarkano.com\",\n",
        "          \"com.cantinaa.customer\", \"ng.greenspek.appstore\", \"com.louis.btapp\",\n",
        "                    \"com.lontorpays.lontorpays\", \"www.fulltankng.com.fulltankng\", \"com.zercomsystems.tangerinemobile.unionbank\", \"com.isabi.customer\",\n",
        "          \"loadng.com.loadng\", \"com.taxidrop.driver\", \"com.ls.cargoatlanticsms\", \"com.gogata.gogata\",\n",
        "          \"com.naijabusiness.app\", \"com.simba.simbaservice\", \"com.ww99PropertyNigeria\", \"com.prepaymentsolutions.softterminal\",\n",
        "          \"com.sifr.igbomedia\", \"appjonlizmarketcom.wpapp\", \"com.app.receiptng\", \"getpaid.com.webapp\",\n",
        "          \"com.mobimaticbuilder.app.android5a244f9eb64b6\", \"com.afrinvest.researchhub\", \"com.spantom.jeroid\", \"com.helpmewaka\",\n",
        "           \"com.ibr.live.streaming.app\", \"com.plovtech.naic\", \"com.tp.dww\", \"ng.gov.dpr\",\n",
        "          \"ng.gov.smedan.themarkethub\", \"com.appworldng.kfa\", \"com.kodeitech.odwadiniapp\", \"com.vendapp\",\n",
        "          \"com.company.nicencleandrycleaners\", \"com.faninigltd.faniapp\", \"com.app.appf4ba5d663d99\", \"com.splyx.dotmac\",\n",
        "          \"com.checkartisan\", \"com.courierlogistics.mimilogs\", \"com.agricbase\",\n",
        "          \"com.app.frenchandhausaworship\", \"com.app.user.jhaki\", \"com.coinvault.exchange\", \"com.conault\",\n",
        "          \"com.due.alaba\", \"com.eride.user\", \"com.frcnibiccs.app\", \"com.gadget.callusmiller\",\n",
        "          \"com.iartstaffcics.app\", \"com.nistaffmcs.app\", \"com.specialmansolution.moovafrica\", \"com.wazotopup.app\",\n",
        "          \"com.zeenex.gidibusiness\", \"milestone.tugbiyele.thelawmastermobile\", \"ng.com.serv.Serv\",\n",
        "        \"com.afiaanyi.mobile\", \"com.afrosoft.agridrive\", \"com.apps.agricplus\", \"com.appswiz.nigeriamedicinalplants\",\n",
        "        \"com.dockaaf.airland\", \"com.ecoonlineng.ecotrader\", \"com.farmreportapp\", \"com.hotmarket.hotmarket\",\n",
        "        \"com.hustlehiveng\", \"com.johnex.theshoppingapp\", \"com.mikeoki.oki.mikeoki.oki.vexmobile\", \"com.nigerianscdcmobile.nscdcmobile.Nigerianscdcapplication\",\n",
        "          \"com.plovtech.nearmenga\", \"com.ryde.Customer\", \"com.sleekdevigner.naccima\", \"com.smatforms.naija.eedc\",\n",
        "          \"com.smatforms.naija.obioakporlg\", \"com.zanibal.ncx\", \"emfashionschool.com\", \"ng.logagg.logaggng\",\n",
        "          \"kwaratour.cygeria.com\", \"com.AppInstitute.e16dc\", \"biz.buildapps.AMFESTEXPO\", \"com.app.bemztouchprinteron\",\n",
        "          \"com.app.jtvshjorzrlnkznbfbqquctodpkgayamwsidlxfvpgu\", \"com.app.suntwist\",\n",
        "          \"com.bashorunibadanovercomerscics.app\", \"com.burgeon8interactive.businessmasterclass\", \"com.cantinaexpress.merchant\", \"com.finalappson.app\",\n",
        "          \"com.idatapot.agenthellogas\", \"com.konektng.customer\", \"com.krf.hub\", \"com.mega.trend\",\n",
        "          \"com.mobimaticbuilder.app.android5b338bf920c7c\", \"com.mobiroller.bnhestate\", \"com.nigeriabusinessstartupguide.app.a8\", \"com.quantumsteelnigeria.apps\",\n",
        "          \"com.smashinvest.App\", \"com.smatforms.naija.nigerianlegionnaires\", \"com.smoothdelivery.app\", \"com.smrtsols.nigeriamarket\",\n",
        "          \"data.onlinebusiness\", \"dwaveschoices.dwaveschoices\", \"joystandard.joystandard\",\n",
        "          \"site.mobileappz.android5ec801b472120\", \"com.app.Bonnyjobs\", \"com.coviexchange.crypto.coviexchange\", \"com.igreenmall.app\",\n",
        "          \"appinventor.ai_murajappsbiz.Aj_Zion_Store\", \"com.apprikator.oto.android5f6dca3fcb7c6\", \"com.cordialmarket.app\", \"com.kwangala.networkapp\",\n",
        "          \"com.polaris.lagosreporter\", \"com.webprogr.nigerianlawyers\", \"ng.com.swiftwash\" \n",
        "          ]\n",
        "\n",
        "\n",
        "\n",
        "RESULT = []\n",
        "\n",
        "for ngApp in ngApps:\n",
        "  result2 = app(\n",
        "      app_id = ngApp,\n",
        "      lang='en', # defaults to 'en'\n",
        "      country='ng' # set country to 'ng'\n",
        "    )\n",
        "  RESULT.append(result2)"
      ],
      "execution_count": null,
      "outputs": []
    },
    {
      "cell_type": "code",
      "metadata": {
        "id": "GH_3ldF45i62"
      },
      "source": [
        "keys = [\"title\", \"summary\", \"free\", \"genre\", \"installs\", \"ratings\", \"price\", \"size\", \n",
        "        \"contentRating\", \"reviews\", \"released\", \"adSupported\", \"sale\", \"score\", \"similarApps\", \"version\"]\n",
        "        \n",
        "APP = []\n",
        "\n",
        "for result in RESULT:\n",
        "  appDetail2 = {key: result[key] for key in keys }\n",
        "  APP.append(appDetail2)"
      ],
      "execution_count": null,
      "outputs": []
    },
    {
      "cell_type": "code",
      "metadata": {
        "colab": {
          "base_uri": "https://localhost:8080/"
        },
        "id": "KjETGxGM5ox7",
        "outputId": "314a570d-6f8c-4a8e-9a6f-0c1d4f995598"
      },
      "source": [
        "business_data_df = pd.DataFrame(APP)\n",
        "len(business_data_df)"
      ],
      "execution_count": null,
      "outputs": [
        {
          "data": {
            "text/plain": [
              "136"
            ]
          },
          "execution_count": 102,
          "metadata": {},
          "output_type": "execute_result"
        }
      ]
    },
    {
      "cell_type": "code",
      "metadata": {
        "colab": {
          "base_uri": "https://localhost:8080/",
          "height": 649
        },
        "id": "mJxwZjWo6f1Q",
        "outputId": "c10d7d0d-144a-4ad7-b442-ce1e32400e1a"
      },
      "source": [
        "business_data_df.head()"
      ],
      "execution_count": null,
      "outputs": [
        {
          "data": {
            "text/html": [
              "<div>\n",
              "<style scoped>\n",
              "    .dataframe tbody tr th:only-of-type {\n",
              "        vertical-align: middle;\n",
              "    }\n",
              "\n",
              "    .dataframe tbody tr th {\n",
              "        vertical-align: top;\n",
              "    }\n",
              "\n",
              "    .dataframe thead th {\n",
              "        text-align: right;\n",
              "    }\n",
              "</style>\n",
              "<table border=\"1\" class=\"dataframe\">\n",
              "  <thead>\n",
              "    <tr style=\"text-align: right;\">\n",
              "      <th></th>\n",
              "      <th>appId</th>\n",
              "      <th>summary</th>\n",
              "      <th>free</th>\n",
              "      <th>genre</th>\n",
              "      <th>installs</th>\n",
              "      <th>ratings</th>\n",
              "      <th>price</th>\n",
              "      <th>size</th>\n",
              "      <th>contentRating</th>\n",
              "      <th>reviews</th>\n",
              "      <th>released</th>\n",
              "      <th>adSupported</th>\n",
              "      <th>sale</th>\n",
              "      <th>editorsChoice</th>\n",
              "    </tr>\n",
              "  </thead>\n",
              "  <tbody>\n",
              "    <tr>\n",
              "      <th>0</th>\n",
              "      <td>com.duaqunut.alqunootoffline</td>\n",
              "      <td>Al Qunut Audio Offline + Text in Arabic, Trans...</td>\n",
              "      <td>True</td>\n",
              "      <td>Music &amp; Audio</td>\n",
              "      <td>100,000+</td>\n",
              "      <td>2461.0</td>\n",
              "      <td>0</td>\n",
              "      <td>62M</td>\n",
              "      <td>Rated for 3+</td>\n",
              "      <td>1277</td>\n",
              "      <td>Jun 29, 2019</td>\n",
              "      <td>True</td>\n",
              "      <td>False</td>\n",
              "      <td>False</td>\n",
              "    </tr>\n",
              "    <tr>\n",
              "      <th>1</th>\n",
              "      <td>tekno.miles</td>\n",
              "      <td>Nigerian Musician 'Tekno\" Songs and Videos</td>\n",
              "      <td>True</td>\n",
              "      <td>Music &amp; Audio</td>\n",
              "      <td>100,000+</td>\n",
              "      <td>490.0</td>\n",
              "      <td>0</td>\n",
              "      <td>5.3M</td>\n",
              "      <td>Rated for 3+</td>\n",
              "      <td>103</td>\n",
              "      <td>Apr 10, 2017</td>\n",
              "      <td>True</td>\n",
              "      <td>False</td>\n",
              "      <td>False</td>\n",
              "    </tr>\n",
              "    <tr>\n",
              "      <th>2</th>\n",
              "      <td>com.andromo.dev553557.app957294</td>\n",
              "      <td>Saurari Dadadan Wakokin Ado Gwanja Offline</td>\n",
              "      <td>True</td>\n",
              "      <td>Music &amp; Audio</td>\n",
              "      <td>10,000+</td>\n",
              "      <td>73.0</td>\n",
              "      <td>0</td>\n",
              "      <td>23M</td>\n",
              "      <td>Rated for 3+</td>\n",
              "      <td>23</td>\n",
              "      <td>May 3, 2019</td>\n",
              "      <td>True</td>\n",
              "      <td>False</td>\n",
              "      <td>False</td>\n",
              "    </tr>\n",
              "    <tr>\n",
              "      <th>3</th>\n",
              "      <td>com.andromo.dev391844.app576733</td>\n",
              "      <td>Sheikh Ahmad Sulaiman Complete Quran. Ahmad Su...</td>\n",
              "      <td>True</td>\n",
              "      <td>Music &amp; Audio</td>\n",
              "      <td>100,000+</td>\n",
              "      <td>726.0</td>\n",
              "      <td>0</td>\n",
              "      <td>5.0M</td>\n",
              "      <td>Rated for 3+</td>\n",
              "      <td>287</td>\n",
              "      <td>Jan 26, 2017</td>\n",
              "      <td>True</td>\n",
              "      <td>False</td>\n",
              "      <td>False</td>\n",
              "    </tr>\n",
              "    <tr>\n",
              "      <th>4</th>\n",
              "      <td>com.doceapps_alcorao_audio_hausa.doceapps_alco...</td>\n",
              "      <td>Hausa Audio Holy Quran MP3</td>\n",
              "      <td>True</td>\n",
              "      <td>Music &amp; Audio</td>\n",
              "      <td>100,000+</td>\n",
              "      <td>838.0</td>\n",
              "      <td>0</td>\n",
              "      <td>13M</td>\n",
              "      <td>Rated for 3+</td>\n",
              "      <td>251</td>\n",
              "      <td>Jul 21, 2016</td>\n",
              "      <td>True</td>\n",
              "      <td>False</td>\n",
              "      <td>False</td>\n",
              "    </tr>\n",
              "  </tbody>\n",
              "</table>\n",
              "</div>"
            ],
            "text/plain": [
              "                                               appId  ... editorsChoice\n",
              "0                       com.duaqunut.alqunootoffline  ...         False\n",
              "1                                        tekno.miles  ...         False\n",
              "2                    com.andromo.dev553557.app957294  ...         False\n",
              "3                    com.andromo.dev391844.app576733  ...         False\n",
              "4  com.doceapps_alcorao_audio_hausa.doceapps_alco...  ...         False\n",
              "\n",
              "[5 rows x 14 columns]"
            ]
          },
          "execution_count": 259,
          "metadata": {},
          "output_type": "execute_result"
        }
      ]
    },
    {
      "cell_type": "code",
      "metadata": {
        "id": "Hv0Ih2JeWjG5"
      },
      "source": [
        "business_data_df.to_csv(\"/content/drive/MyDrive/Naija Apps & Review/new csvs/business.csv\", index=False)"
      ],
      "execution_count": null,
      "outputs": []
    },
    {
      "cell_type": "markdown",
      "metadata": {
        "id": "Hi5FTJk26QXw"
      },
      "source": [
        "# News & Magazine Apps\n"
      ]
    },
    {
      "cell_type": "code",
      "metadata": {
        "id": "k3JGcfH67dCs"
      },
      "source": [
        "ngApps = [\"com.naij.android\", \"ma.safe.bnnigeria\", \"com.channelstv.channels.mobile\", \"easyjam.hausaradio\",\n",
        "          \"nigerian.systemsbase.newspapers.newspaper\", \"com.lisea.ntanews\", \"com.andromo.dev319867.app437738\", \"com.naij.hausa\",\n",
        "          \"com.marketinz.biafraworld\", \"com.biafra\", \"com.compass.nairaland\", \"com.audionowdigital.player.voahausa\",\n",
        "          \"net.platinum.lindaikeji\", \"nigerian.systemsbase.newspapers.newspaper\", \"com.goodbarber.vanguardngrnews\", \"net.apploadyou.apps.android5c41cf4fdef66\",\n",
        "          \"com.breakingnewsbest\", \"com.dailypost.android\", \"com.vanguard.punch.reader\", \"com.skiclouds.NaijaBreakingNews\",\n",
        "          \"com.andromo.dev658544.app754533\", \"com.nairametrics.app\", \"com.shrflatest.nigerian.news\", \"ng.catchup.android\",\n",
        "          \"com.nigerian.tribune.app\", \"com.gistmania\", \"com.jadebyte.naijaloaded\", \"com.andromo.dev663676.app685137\", \n",
        "          \"com.bbnfanz.app\", \"com.sahara.reporters.app.qqbbyynyeiqhwbcqbhaw\", \"com.andromo.dev626263.app689520\", \"com.vanguard.newspaper\",\n",
        "          \"com.andromo.dev667318.app733850\", \"com.amplifyradioapps.brila\", \"com.jedafe.dailyparrots\", \"com.app.thrilliantnigeriatvcng\",\n",
        "          \"com.androplus.NigeriaNewsHD\", \"net.itv.buzapps.apps.androidb706\", \"com.trendsdailyng.naijanews\", \"com.tsa.newspaygettingstarted\",\n",
        "          \"com.galaxytvonline.mobile.app\", \"com.inerd.thenation\", \"com.nnu.forum.app\", \"com.wisalhausatv\",\n",
        "          \"com.nigerian.gossip.app\", \"com.naija.gist.ttt\", \"com.gossip9aija.gossipnaija\", \"com.lagoo.nigeria\",\n",
        "          \"com.premium.times.nigeria\", \"com.mobiloud.android.aeroberry\", \"naijaloaded.mobileapp\", \"com.pulse.news.app\",\n",
        "          \"com.newsnaira.websitetoapp1\", \"io.appful.a8230\", \"com.naijapaynews\", \"com.nufisys.android.tamtam.nigeria\",\n",
        "          \"com.todaynewsinnigeria\", \"com.nmag.mp\", \"com.lips.dailiesng\", \"com.naija.sports.news\",\n",
        "           \"bia.voice.intl\", \"com.naijadailies\", \"ng.kemifilani\",\n",
        "          \"com.naijalivetv\"]\n",
        "\n",
        "\n",
        "\n",
        "\n",
        "RESULT = []\n",
        "\n",
        "for ngApp in ngApps:\n",
        "  #print(ngApp)\n",
        "  result2 = app(\n",
        "      app_id = ngApp,\n",
        "      lang='en', # defaults to 'en'\n",
        "      country='ng' # set country to 'ng'\n",
        "    )\n",
        "  RESULT.append(result2)"
      ],
      "execution_count": null,
      "outputs": []
    },
    {
      "cell_type": "code",
      "metadata": {
        "id": "JBJxR8ftvS0T"
      },
      "source": [
        "keys = [\"title\", \"summary\", \"free\", \"genre\", \"installs\", \"ratings\", \"price\", \"size\", \n",
        "        \"contentRating\", \"reviews\", \"released\", \"adSupported\", \"sale\", \"score\", \"similarApps\", \"version\"]\n",
        "APP = []\n",
        "\n",
        "for result in RESULT:\n",
        "  appDetail2 = {key: result[key] for key in keys }\n",
        "  APP.append(appDetail2)"
      ],
      "execution_count": null,
      "outputs": []
    },
    {
      "cell_type": "code",
      "metadata": {
        "colab": {
          "base_uri": "https://localhost:8080/"
        },
        "id": "m_-tSeRxvXXD",
        "outputId": "b085e934-4a8d-4643-d146-6662963dd829"
      },
      "source": [
        "news_magz_data_df = pd.DataFrame(APP)\n",
        "len(news_magz_data_df)"
      ],
      "execution_count": null,
      "outputs": [
        {
          "data": {
            "text/plain": [
              "65"
            ]
          },
          "execution_count": 65,
          "metadata": {},
          "output_type": "execute_result"
        }
      ]
    },
    {
      "cell_type": "code",
      "metadata": {
        "id": "T0HsGfBtqLvp"
      },
      "source": [
        "news_magz_data_df.to_csv(\"/content/drive/MyDrive/Colab Notebooks/newsMagazin.csv\", index=False)"
      ],
      "execution_count": null,
      "outputs": []
    },
    {
      "cell_type": "markdown",
      "metadata": {
        "id": "G4UFEZ3E6kk6"
      },
      "source": [
        "# Books & Reference Apps"
      ]
    },
    {
      "cell_type": "code",
      "metadata": {
        "id": "TvUNwvdL7dFg"
      },
      "source": [
        "ngApps = [\"catholic.missal.prayer.nigeria.gminds\", \"com.pledge51.nigerianconstitution\", \"yoruba.holy.bible.AOVGSFFIOTUFGGBTLU\", \"com.sadiksalihu.littafinhisnulmuslim\",\n",
        "          \"com.okoye.catholichymnbook\", \"apps.syst.com.devbib\", \"com.hdictionary.ha\", \"com.sadiksalihu.fassararlittafinahdhari\",\n",
        "          \"net.yorubabible.audiobible\", \"com.gabbitto.MethodistHymnBookOffline\", \"ru.omdevelopment.ref.quranhausa.free\", \"com.sadiksalihu.sallah\",\n",
        "          \"com.andromo.dev653890.app641288\", \"com.andromo.dev701988.app896293\", \"freeapk.com.quran.hausa.translation\", \"com.renaeon.bh\",\n",
        "          \"com.hqbytes.eva\", \"com.hqbytes.matrimonialact\", \"com.itechsystems.littafinwakoki\", \"com.gabbitto.RedeemedHymnBook\",\n",
        "          \"com.hqbytes.cca\", \"com.biozat.celestialhymns\", \"abu.smacmedia.com\", \"com.eweghana.bible\",\n",
        "          \"com.conkrea.yorubabible\", \"com.softrocktechnology.princess.hymnbook\", \"igbo.names.meanings.nigeria.igbonamesmeaningsnaija\",\n",
        "          \"yahweh.celeapps.orinijomimo\", \"littafin.ahalari.warash\", \"com.egbadiocese.newliturgy\", \"com.obbh\"]\n",
        "\n",
        "\n",
        "\n",
        "RESULT = []\n",
        "\n",
        "for ngApp in ngApps:\n",
        "  result2 = app(\n",
        "      app_id = ngApp,\n",
        "      lang='en', # defaults to 'en'\n",
        "      country='ng' # set country to 'ng'\n",
        "    )\n",
        "  RESULT.append(result2)"
      ],
      "execution_count": null,
      "outputs": []
    },
    {
      "cell_type": "code",
      "metadata": {
        "id": "UBzZfP212Gnu"
      },
      "source": [
        "keys = [\"title\", \"summary\", \"free\", \"genre\", \"installs\", \"ratings\", \"price\", \"size\", \n",
        "        \"contentRating\", \"reviews\", \"released\", \"adSupported\", \"sale\", \"score\", \"similarApps\", \"version\"]\n",
        "        \n",
        "APP = []\n",
        "\n",
        "for result in RESULT:\n",
        "  appDetail2 = {key: result[key] for key in keys }\n",
        "  APP.append(appDetail2)"
      ],
      "execution_count": null,
      "outputs": []
    },
    {
      "cell_type": "code",
      "metadata": {
        "colab": {
          "base_uri": "https://localhost:8080/"
        },
        "id": "o3UZ1DJB2H_p",
        "outputId": "384a26f9-2af8-41d3-d34d-2000b617e14b"
      },
      "source": [
        "books_ref_data_df = pd.DataFrame(APP)\n",
        "len(books_ref_data_df)"
      ],
      "execution_count": null,
      "outputs": [
        {
          "data": {
            "text/plain": [
              "31"
            ]
          },
          "execution_count": 21,
          "metadata": {},
          "output_type": "execute_result"
        }
      ]
    },
    {
      "cell_type": "code",
      "metadata": {
        "id": "PZ1txlnkqrur"
      },
      "source": [
        "books_ref_data_df.to_csv(\"/content/drive/MyDrive/Naija Apps & Review/new csvs/booksRef.csv\", index=False)"
      ],
      "execution_count": null,
      "outputs": []
    },
    {
      "cell_type": "markdown",
      "metadata": {
        "id": "_KMzB0Qb6zes"
      },
      "source": [
        "# Lifestyle Apps\n"
      ]
    },
    {
      "cell_type": "code",
      "metadata": {
        "id": "wY1EOpOW7dJI"
      },
      "source": [
        "ngApps = [\n",
        "          \"com.jumia.one.android\", \"com.jumiafood.android\", \"com.FlirtNaijaapp\", \"com.andromo.dev653890.app649483\",\n",
        "          \"com.andromo.dev457443.app440949\", \"com.andromo.dev663676.app815871\", \"org.lwnm.digitallib\", \"com.menafricanfashion.ng\",\n",
        "          \"com.gele.ng\", \"com.LatestAsoebiFashionStyles.MintamaApps\", \"com.swiftng.redcheetah\", \"com.gremamedia.naijalotto\",\n",
        "          \"com.mobobi.yorubaproverbs\", \"al_quran.hausa.koran.islamic.quran\", \"com.andromo.dev455392.app603530\", \"com.nigeriapropertycentre.app\",     \n",
        "          \"com.nigerianfoodrecipes.primex\", \"com.andromo.dev653890.app674574\", \"com.andromo.dev391844.app576017\", \"com.andromo.dev739265.app834142\",\n",
        "          \"com.gelemakeup.ng\", \"com.jasparh.app\", \"ru.ifsoft.datenigeriaalla\",\n",
        "          \"com.solutions.Nigeriadating\", \"com.andromo.dev658544.app672243\", \"com.andromo.dev653901.app662075\", \"com.andromo.dev653901.app651554\",\n",
        "          \"com.andromo.dev658544.app953796\", \"com.andromo.dev658544.app668550\", \"ma.prayer.time.nigeria\", \"com.andromo.dev658544.app668172\",\n",
        "          \"com.andromo.dev658544.app672687\", \"azan.nigeria.prayer.time\", \"com.andromo.dev653901.app651516\", \"com.andromo.dev658544.app668213\",    \n",
        "          \"com.andromo.dev663676.app681955\", \"com.consultasifafree.app\", \"com.andromo.dev653890.app649651\", \"com.andromo.dev658544.app670909\",     \n",
        "          \"com.howtomakenigerianfood.tegy\", \"com.andromo.dev658544.app670914\", \"com.andromo.dev646242.app670583\", \"nigeria.banks.ussd.codes.nigeriabanksussdcode\",\n",
        "          \"com.legendroaapps.africanmenclothing\", \"com.newandromo.dev333579.app652890\", \"com.HausaFashionStyles.FFProject\",\n",
        "          \"net.platinum.nigerian.fashion\", \"com.andromo.dev700805.app879143\", \"com.andromo.dev597108.app915159\", \"com.AfricanMenFashion.FFProject\",\n",
        "          \"com.andromo.dev455392.app604548\", \"net.andromo.dev455392.app451493\", \"com.andromo.dev701988.app830642\", \"kayan.mata\",\n",
        "          \"com.nigeriansoup.app\", \"com.andromo.dev455392.app527785\", \"com.arewafashiondressesstyles.aykco\", \"com.koyon.girkiaf\",     \n",
        "          \"ng.com.propertypro.user\", \"ng.com.propertypro.user\", \"com.andromo.dev701988.app896459\", \"com.andromo.dev739265.app811183\",\n",
        "          \"com.cac.ng\", \"com.date9ja.android\", \"com.ahyoxsoft.hookup\", \"com.swingtap.swingtap\",\n",
        "          \"com.andromo.dev646242.app670578\", \"com.andromo.dev658544.app670164\", \"com.andromo.dev658544.app669508\", \"com.andromo.dev646242.app670587\",\n",
        "          \"com.andromo.dev646242.app671023\", \"com.andromo.dev653901.app655778\", \"com.andromo.dev658544.app669499\", \"com.churchplus.dunamis\",\n",
        "          \"com.andromo.dev658544.app669184\", \"com.andromo.dev597108.app888999\", \"com.andromo.dev658544.app981487\", \"freeapps.davidoyedepo.dailysermons\",\n",
        "          \"com.andromo.dev658544.app675161\", \"com.andromo.dev764750.app1047927\", \"com.tuxkiddos.apps.lumenchristi\", \"com.appybuilder.kenny5rhymes.NIgerianSoupRecipes\",\n",
        "          \"com.andromo.dev646242.app674152\", \"com.andromo.dev658544.app676552\", \"org.tlccrm.android\", \"com.andromo.dev377547.app452263\",\n",
        "          \"com.NigerianChristianSinglesapp\", \"com.easyproperties.ng\", \"com.zabe.android\", \"com.talkasoft.edo_language\",\n",
        "          \"kundinso.dakauna\", \"com.andromo.dev809073.app932735\", \"com.naijamatrimony\", \"com.andromo.dev455392.app467667\",\n",
        "          \"com.ArewaLadiesFashion.FFProject\", \"app.naija.singles2020\", \"com.pizzahut.ng\", \"agapechristiansingles.com\",\n",
        "          \"com.andromo.dev597108.app977170\", \"com.andromo.dev701988.app840003\", \"com.andromo.dev658544.app669545\", \"com.andromo.dev658544.app669532\",\n",
        "          \"com.andromo.dev658544.app668555\", \"com.andromo.dev658544.app675158\", \"com.andromo.dev646242.app662053\", \"com.andromo.dev653901.app651148\",\n",
        "          \"com.andromo.dev658544.app668552\", \"com.andromo.dev658544.app669524\", \"ng.venntech.arewaelectricity\",\n",
        "          \"com.tbjoshua.app\", \"com.andromo.dev658544.app668556\", \"com.andromo.dev646242.app670574\", \"com.myfotobook.myfotobookapp\",\n",
        "          \"com.andromo.dev658544.app676349\", \"com.andromo.dev658544.app675157\", \"org.covenantchristiancentre.c3life\", \"com.bnc.rnt\",         \n",
        "          \"com.andromo.dev739265.app965461\", \"com.andromo.dev877966.app1001566\", \"com.arewamenfashionstyles.aykco\", \"com.app.naija_building_estimator\",\n",
        "          \"com.NextLevelApps.DrPastorPaulEnencheMessages\", \"com.norvera.confession\", \"com.andromo.dev663676.app977853\", \"com.andromo.dev658544.app669511\",\n",
        "          \"club.appcanvas.www.android5f65ab6de6f0d\", \"com.plagtibmobile.login.android5b644d6ce6f59\", \"org.heywhyconcept.myapplicationscroll\", \"com.mentrendingsenatorstyles.aykco\",\n",
        "          \"com.andromo.dev653901.app670923\", \"ng.zama.zama\", \"com.andromo.dev597108.app876300\", \"com.gremastadia.goldenchance\",\n",
        "          \"com.asheori.recipesbydolapogrey\", \"com.philipsniche.naijafoodrecipe\", \"com.andromo.dev377547.app438918\", \"com.andromo.dev479905.app441813\",\n",
        "          \"com.plagtibmobile.login.android5cc2cdd79affc\", \"com.threewp.ntdilAnd\", \"io.kodular.mplgmg.YyorubaMythology\", \"com.liveoo\",\n",
        "          \"com.andromo.dev658544.app737958\", \"com.vpapps.koinoniaeni\", \"com.daramedia.naijadishes\",\n",
        "          \"ojuelegba.ebizrest.com\", \"com.platinum.naijafashion\", \"com.realtime.rentnaija\", \"hubuktechnology.com.halal_delivery\", \n",
        "          \"com.streetfood.app\", \"com.omnifortefavor.ngsparkz\", \"com.andromo.dev597108.app1054511\", \"com.kwik.bites\",       \n",
        "          \"com.africanlacedress.lacestyledesign\", \"com.andromo.dev542547.app974172\", \"com.andromo.dev597108.app878279\", \"com.andromo.dev597108.app971169\",\n",
        "          \"com.andromo.dev609862.app579887\", \"com.andromo.dev653901.app644716\", \"com.andromo.dev653901.app658498\", \"com.andromo.dev658544.app669517\",\n",
        "          \"com.andromo.dev658544.app669523\", \"com.andromo.dev658544.app672686\", \"com.bishopo.app\", \"com.latestnigerian.fashionstyles.formen\",\n",
        "          \"com.menhausafashionstyles.aykco\", \"com.nbaapp\", \"com.newandromo.dev5816.app1003669\", \"com.nigerianankarafashionstyles.aykco\",   \n",
        "           \"okinnativewear.com.okinnativewear\", \"com.green_pastures.awesome_tbee.spiritlife\", \"com.enjoylagos\", \"com.sigao.wow99\",\n",
        "          \"com.abidingtv\", \"com.toncleminc.com.foodcourtng\", \"ng.nfde.hubs\", \"apppropertyhunterngcom.wpapp\",\n",
        "          \"com.nigeriansnacksrecipes.aykco\", \"com.realmofglory.mobile\", \"com.andromo.dev658544.app669519\",\n",
        "           \"com.my9japower\", \"com.plagtibmobile.login.android5b3bed62d6503\", \"com.ugochi.ipc\", \"com.andromo.dev459376.app963735\",\n",
        "          \"com.andromo.dev542547.app974348\", \"com.hausafoodrecipes.aykco\", \"com.naijafoodrecipesapp.aykco\", \"com.nigerianmenagbadafashionstyles.aykco\",\n",
        "          \"com.ohenemaapps.flavourvideossong\", \"com.shopwazobia.wazobiachow\", \"com.techlinemobile.foodbasket\", \"com.rccglapdopemu.media1\",\n",
        "          \"com.acadaar.church_app\", \"ng.ticketplanetmobile.Ticketplanet\", \"com.northapps.hausanews\",\n",
        "          \"com.churchplus.rccghub\", \"com.app_jeunky380.layout\", \"codino.nigerian.recipes\", \"com.gloriouslvcu.truthfortimes\",\n",
        "          \"uk.co.hungrrr.igochop\", \"com.fatcatngnigeria\", \"appinventor.ai_treasuretrovecollectibles.Oshun_Gold_Bath_Yoruba_Ritual\",\n",
        "          \"com.LatestAsoebiFashionStyles.andimayong\", \"com.LatestNigerianDress.Aprilianing\", \"com.andromo.dev542547.app975222\", \"com.andromo.dev597108.app1057997\",\n",
        "          \"com.andromo.dev597108.app825229\"\n",
        "          ]\n",
        "\n",
        "RESULT = []\n",
        "\n",
        "for ngApp in ngApps:\n",
        "  result2 = app(\n",
        "      app_id = ngApp,\n",
        "      lang='en', # defaults to 'en' \n",
        "      country='ng' # set country to 'ng'\n",
        "  )\n",
        "  RESULT.append(result2)"
      ],
      "execution_count": null,
      "outputs": []
    },
    {
      "cell_type": "code",
      "metadata": {
        "id": "W3udSkWCpPzG"
      },
      "source": [
        "keys = [\"title\", \"summary\", \"free\", \"genre\", \"installs\", \"ratings\", \"price\", \"size\", \n",
        "        \"contentRating\", \"reviews\", \"released\", \"adSupported\", \"sale\", \"score\", \"similarApps\", \"version\"]\n",
        "\n",
        "APP = []\n",
        "\n",
        "for result in RESULT:\n",
        "  appDetail2 = {key: result[key] for key in keys}\n",
        "  APP.append(appDetail2)"
      ],
      "execution_count": null,
      "outputs": []
    },
    {
      "cell_type": "code",
      "metadata": {
        "colab": {
          "base_uri": "https://localhost:8080/"
        },
        "id": "EBmpkcHitJ7I",
        "outputId": "8f748e78-2bcb-4be3-ecce-354774ad6867"
      },
      "source": [
        "lifestyle_df = pd.DataFrame(APP)\n",
        "len(lifestyle_df)"
      ],
      "execution_count": null,
      "outputs": [
        {
          "data": {
            "text/plain": [
              "206"
            ]
          },
          "execution_count": 70,
          "metadata": {},
          "output_type": "execute_result"
        }
      ]
    },
    {
      "cell_type": "code",
      "metadata": {
        "id": "1p2jtfoJtPKQ"
      },
      "source": [
        "lifestyle_df.to_csv(\"/content/drive/MyDrive/Naija Apps & Review/new csvs/lifestyle.csv\", index=False)"
      ],
      "execution_count": null,
      "outputs": []
    },
    {
      "cell_type": "markdown",
      "metadata": {
        "id": "h9ZRNQtE7Fk9"
      },
      "source": [
        "# Travels & Local Apps"
      ]
    },
    {
      "cell_type": "code",
      "metadata": {
        "id": "Ak6p9fFw7dKr"
      },
      "source": [
        "ngApps = [\n",
        "          \"com.gigm\", \"com.gokada.agent\", \"ng.max.go\", \"com.pickmeup.rider\",\n",
        "          \"com.pickmeup.rider\", \"max.air.app\", \"com.airazman.android\", \"hau.fre.dictionary\",\n",
        "          \"com.flyairpeace.airpeacenigeria\", \"com.greatestwebapp.simplenigeriamapoffline\", \"com.cheapyco.ng\", \"com.aerocontractors.flyaero\",\n",
        "          \"com.tryapptivities.pamdrive\", \"com.plentywaka.rider.app\", \"com.bitla.mba.abctransport\", \"com.ncktech.easydispatch\",\n",
        "          \"com.wakanow.android\", \"com.dansahu.user\", \"com.tryapptivities.pamdriver\", \"com.jetRide.partner\",\n",
        "          \"com.jetRide.rider\", \"com.blogspot.prosquid\", \"com.NIS.Portal\", \"com.swyft.driver\",\n",
        "          \"com.flydanaair.danaair\", \"com.carbbie.passenger\", \"com.chiscotransport\", \"de.ivu.realtime.app.lamata\",\n",
        "          \"com.awabike\", \"com.virtualsoft.android.qothoo\", \"com.virtualsoft.android.qothoodriver\", \"com.conduit.app_38406f4514ee47d9a8bb6c148ceb949f.app\",\n",
        "          \"com.naijacabv2.com.naijacabv2\", \"com.flyarikair.arikairnigeria\", \"com.cyhermes.parizzoRiderApp\", \"com.bookingsnigeria.app\",\n",
        "          \"com.gpsmycity.android.u355\", \"ng.max.champion\", \"cs.com.roitaxi.kinshasa.client\", \"com.timbu.app\",\n",
        "          \"com.nightowltechnology.asimyaz.abuja2kaduna\", \"com.shuttlers.android\", \"com.shuttlers.driver.android\", \"com.ayobinitie.hotelsinnigeira\",\n",
        "          \"com.tokeeto.bookingapp\", \"com.bookmytripapp\", \"ng.app.tuchi\", \"ng.rideon.user\",\n",
        "          \"ng.rideon.drivers\", \"com.zkyte.passenger\", \"com.ngglt.driver\", \"com.customer.monochrome\",\n",
        "          \"ssc.snow.app.gomyways\", \"mobile.cordiscorp.sheeft.driver\", \"com.emedrep.gismapping\", \"com.eduven.ed.water.bodies\",\n",
        "          \"com.intelitycorp.icedroidplus.TranscorpHiltonAbuja\", \"com.justflyng\", \"maiduguri.travel.guide\", \"com.skydrivelimited.skydrivetaxi\",\n",
        "          \"com.app.travelnigeria\", \"com.client.ehara\", \"app.mytrip.ng\", \"ng.ohstel.ohstel\",\n",
        "          \"com.roadracers.driver\", \"com.amba.customer\", \"production.nairaxi.customer\", \"ng.tripp\",\n",
        "           \"ng.mycityride.riderapp\", \"ng.rideon.drivers\", \"in.ighub.inaagaUser\", \"com.wondarider.app\",\n",
        "          \"ng.com.kwikie\", \"app.pitb.gov.nigeriahajjguide\", \"coal.city\", \"com.SixthCreation.translator\",\n",
        "          \"com.citikab.citikab\", \"com.epicTaxi.rider\", \"com.exceptionaire.root.tdn\", \"com.gis.eedclocator\",\n",
        "          \"com.lagos.mafromedia\", \"com.metromapoffline.abudaja\", \"com.minube.guides.lagos\", \"com.mizi_bus.mizibus_user\",\n",
        "          \"com.ngglt.rider\", \"com.roadracers.user\", \"com.zhaptek.sole\", \"org.legacy100year.jigorokanomap\",\n",
        "          \"production.brekete.customer\", \"production.vride.customer\", \"net.etssystems.danko.waka\", \"com.infinityrenccas.renccashotel\",\n",
        "          \"com.colgene.customer\", \"abuja.travel.guide\", \"com.adfemconsult.pickme\", \"com.bestride.driver.BestRideDriver\",\n",
        "          \"com.busmapoffline.abuja\", \"com.drivemymoto.leandmm\", \"com.eduven.cg.nigeria\", \"com.elstack.pat_driver\",\n",
        "          \"com.eurotalk.utalk.igbo\", \"com.eurotalk.utalk.yoruba\", \"com.hoteza.lagos_del_calafate\", \"com.i2medier.imohotels\",\n",
        "          \"com.jospet.user.application\", \"com.touristmapoffline.abuja\", \"com.wonda.app\", \"smhp.com.suaveexpressclient\",\n",
        "          \"com.amrolecustomer\", \"com.pca.motors\", \"d.pintoptech.cypress_logistics\", \"com.Oneclick9ja.Travel.App\",\n",
        "          \"appnandashotelscom.wpapp\", \"com.alphasys.lagos\", \"com.amroledriver\", \n",
        "          \"com.app.anambra_metro_vault\", \"com.app.enjoyosun\", \"com.aviatortravels\", \"com.driver.surf\",\n",
        "          \"com.eurotalk.utalk.hausa\", \"com.findamnaija.findam\", \"com.greatrivers.makeigo2\", \"com.greatrivers.makeigo2\",\n",
        "          \"com.ilaji.resortapp\", \"com.ionicframework.jiggleapp266528\", \"com.kabman.ng.rider\",\n",
        "          \"com.metromapoffline.nigeria\", \"com.mobimaticbuilder.app.android59e75077bfc39\", \"com.pilgrims.africa\", \"com.plovtech.niafrica\",\n",
        "          \"com.plovtech.niasia\", \"com.plovtech.nieurope\", \"com.servotronicstech.autotrack\", \"com.synmono.provider\",\n",
        "          \"com.taxipath.driver\", \"com.titotransport.titotransport\", \"com.tripbyci\", \"enugu.travel.guide\",\n",
        "          \"ilorin.travel.guide\", \"io.timtomionic.starterapp\", \"lagos.travel.guide\", \"naijasky.lagos\",\n",
        "          \"ng.com.metro.cars.client\", \"portharcourt.travel.guide\", \"synergy.travelsinitiative\", \"com.atmfinder.abuja\",\n",
        "         \"com.cloudware.kasmagline\", \"d.pintoptech.cypress_logistics_rider\", \"ibadan.travel.guide\", \"kaduna.travel.guide\",\n",
        "          \"naijasky.enjoynigeria\", \"com.pikaride.pikarideuser\", \"app.abuja.routeplanner.planmyroute.gps.navigation.direction.driving.routefinder\", \"com.graceapp.visitnigeria\",\n",
        "        \"com.mile.customer\",\"naijasky.edo\", \"naijasky.enugu\", \"naijasky.oredo\"\n",
        "          ]\n",
        "\n",
        "RESULT = []\n",
        "\n",
        "for ngApp in ngApps:\n",
        "  result2 = app(\n",
        "      app_id = ngApp,\n",
        "      lang='en', # defaults to 'en'\n",
        "      country='ng' # set country to 'ng'\n",
        "    )\n",
        "  RESULT.append(result2)"
      ],
      "execution_count": null,
      "outputs": []
    },
    {
      "cell_type": "code",
      "metadata": {
        "colab": {
          "base_uri": "https://localhost:8080/"
        },
        "id": "PUlLo9w2jVlg",
        "outputId": "110b8299-cd41-4383-b846-3c3760ef53ce"
      },
      "source": [
        "len(RESULT)"
      ],
      "execution_count": null,
      "outputs": [
        {
          "data": {
            "text/plain": [
              "158"
            ]
          },
          "execution_count": 68,
          "metadata": {},
          "output_type": "execute_result"
        }
      ]
    },
    {
      "cell_type": "code",
      "metadata": {
        "id": "qAWj4_Jki0Zr"
      },
      "source": [
        "keys = [\"title\", \"summary\", \"free\", \"genre\", \"installs\", \"ratings\", \"price\", \"size\", \n",
        "        \"contentRating\", \"reviews\", \"released\", \"adSupported\", \"sale\", \"score\", \"similarApps\", \"version\"]\n",
        "APP = []\n",
        "\n",
        "for result in RESULT:\n",
        "  appDetail2 = {key: result[key] for key in keys }\n",
        "  APP.append(appDetail2)"
      ],
      "execution_count": null,
      "outputs": []
    },
    {
      "cell_type": "code",
      "metadata": {
        "colab": {
          "base_uri": "https://localhost:8080/",
          "height": 649
        },
        "id": "GOqMlVN9nFCj",
        "outputId": "f5b52753-34e0-4e2d-90b5-31cd75c66980"
      },
      "source": [
        "travel_local_df = pd.DataFrame(APP)\n",
        "travel_local_df.head()"
      ],
      "execution_count": null,
      "outputs": [
        {
          "data": {
            "text/html": [
              "<div>\n",
              "<style scoped>\n",
              "    .dataframe tbody tr th:only-of-type {\n",
              "        vertical-align: middle;\n",
              "    }\n",
              "\n",
              "    .dataframe tbody tr th {\n",
              "        vertical-align: top;\n",
              "    }\n",
              "\n",
              "    .dataframe thead th {\n",
              "        text-align: right;\n",
              "    }\n",
              "</style>\n",
              "<table border=\"1\" class=\"dataframe\">\n",
              "  <thead>\n",
              "    <tr style=\"text-align: right;\">\n",
              "      <th></th>\n",
              "      <th>title</th>\n",
              "      <th>summary</th>\n",
              "      <th>free</th>\n",
              "      <th>genre</th>\n",
              "      <th>installs</th>\n",
              "      <th>ratings</th>\n",
              "      <th>price</th>\n",
              "      <th>size</th>\n",
              "      <th>contentRating</th>\n",
              "      <th>reviews</th>\n",
              "      <th>released</th>\n",
              "      <th>adSupported</th>\n",
              "      <th>sale</th>\n",
              "      <th>score</th>\n",
              "      <th>similarApps</th>\n",
              "      <th>version</th>\n",
              "    </tr>\n",
              "  </thead>\n",
              "  <tbody>\n",
              "    <tr>\n",
              "      <th>0</th>\n",
              "      <td>GIG Mobility</td>\n",
              "      <td>The official mobile application of GIG Mobility</td>\n",
              "      <td>True</td>\n",
              "      <td>Maps &amp; Navigation</td>\n",
              "      <td>100,000+</td>\n",
              "      <td>9617.0</td>\n",
              "      <td>0.0</td>\n",
              "      <td>26M</td>\n",
              "      <td>Rated for 3+</td>\n",
              "      <td>5365.0</td>\n",
              "      <td>Feb 24, 2017</td>\n",
              "      <td>None</td>\n",
              "      <td>False</td>\n",
              "      <td>4.166495</td>\n",
              "      <td>[com.safeboda.driver, ng.giglogistics.giglgo, ...</td>\n",
              "      <td>1.4.4</td>\n",
              "    </tr>\n",
              "    <tr>\n",
              "      <th>1</th>\n",
              "      <td>G Pilot (Driver App)</td>\n",
              "      <td>Gokada is an on-demand motorcycle delivery ser...</td>\n",
              "      <td>True</td>\n",
              "      <td>Tools</td>\n",
              "      <td>5,000+</td>\n",
              "      <td>228.0</td>\n",
              "      <td>0.0</td>\n",
              "      <td>26M</td>\n",
              "      <td>Rated for 3+</td>\n",
              "      <td>85.0</td>\n",
              "      <td>May 13, 2020</td>\n",
              "      <td>None</td>\n",
              "      <td>False</td>\n",
              "      <td>4.485148</td>\n",
              "      <td>[com.gigm, com.safeboda.driver, com.kwik.messe...</td>\n",
              "      <td>4.1.58</td>\n",
              "    </tr>\n",
              "    <tr>\n",
              "      <th>2</th>\n",
              "      <td>MAX Okada</td>\n",
              "      <td>Beat traffic in your city &amp; get your packages ...</td>\n",
              "      <td>True</td>\n",
              "      <td>Maps &amp; Navigation</td>\n",
              "      <td>100,000+</td>\n",
              "      <td>689.0</td>\n",
              "      <td>0.0</td>\n",
              "      <td>7.7M</td>\n",
              "      <td>Rated for 3+</td>\n",
              "      <td>384.0</td>\n",
              "      <td>Jun 22, 2017</td>\n",
              "      <td>None</td>\n",
              "      <td>False</td>\n",
              "      <td>3.020000</td>\n",
              "      <td>[via.driver, com.gigm, com.ridetada, com.paywa...</td>\n",
              "      <td>2.9.4</td>\n",
              "    </tr>\n",
              "    <tr>\n",
              "      <th>3</th>\n",
              "      <td>Pickmeup</td>\n",
              "      <td>Get a safe, reliable and affordable ride in mi...</td>\n",
              "      <td>True</td>\n",
              "      <td>Maps &amp; Navigation</td>\n",
              "      <td>50,000+</td>\n",
              "      <td>546.0</td>\n",
              "      <td>0.0</td>\n",
              "      <td>12M</td>\n",
              "      <td>Rated for 3+</td>\n",
              "      <td>290.0</td>\n",
              "      <td>Nov 16, 2018</td>\n",
              "      <td>None</td>\n",
              "      <td>False</td>\n",
              "      <td>4.140000</td>\n",
              "      <td>[com.taamcab.catchuser, com.taxiye.driver, com...</td>\n",
              "      <td>2.0.1</td>\n",
              "    </tr>\n",
              "    <tr>\n",
              "      <th>4</th>\n",
              "      <td>Pickmeup</td>\n",
              "      <td>Get a safe, reliable and affordable ride in mi...</td>\n",
              "      <td>True</td>\n",
              "      <td>Maps &amp; Navigation</td>\n",
              "      <td>50,000+</td>\n",
              "      <td>546.0</td>\n",
              "      <td>0.0</td>\n",
              "      <td>12M</td>\n",
              "      <td>Rated for 3+</td>\n",
              "      <td>290.0</td>\n",
              "      <td>Nov 16, 2018</td>\n",
              "      <td>None</td>\n",
              "      <td>False</td>\n",
              "      <td>4.140000</td>\n",
              "      <td>[com.taamcab.catchuser, com.taxiye.driver, com...</td>\n",
              "      <td>2.0.1</td>\n",
              "    </tr>\n",
              "  </tbody>\n",
              "</table>\n",
              "</div>"
            ],
            "text/plain": [
              "                  title  ... version\n",
              "0          GIG Mobility  ...   1.4.4\n",
              "1  G Pilot (Driver App)  ...  4.1.58\n",
              "2             MAX Okada  ...   2.9.4\n",
              "3              Pickmeup  ...   2.0.1\n",
              "4              Pickmeup  ...   2.0.1\n",
              "\n",
              "[5 rows x 16 columns]"
            ]
          },
          "execution_count": 70,
          "metadata": {},
          "output_type": "execute_result"
        }
      ]
    },
    {
      "cell_type": "code",
      "metadata": {
        "id": "0GXVO6AAnbKX"
      },
      "source": [
        "travel_local_df.to_csv(\"/content/drive/MyDrive/Naija Apps & Review/new csvs/travel and local.csv\", index=False)"
      ],
      "execution_count": null,
      "outputs": []
    },
    {
      "cell_type": "markdown",
      "metadata": {
        "id": "KOtihGyMNTW9"
      },
      "source": [
        "#Entertainment"
      ]
    },
    {
      "cell_type": "code",
      "metadata": {
        "id": "hzl82XF8vC4l"
      },
      "source": [
        "from pprint import pprint"
      ],
      "execution_count": null,
      "outputs": []
    },
    {
      "cell_type": "code",
      "metadata": {
        "id": "DibaVrHn7dP9"
      },
      "source": [
        "ngApps = [  'com.afrobyt','com.ambujaiptvbox.ambujaiptvboxiptvbox',\n",
        "  'com.yorubaplay','net.andromo.dev319867.app336747','com.vestedapps.familythehonestcomedy','com.vestedapps.splendidtvyoruba.comedy',\n",
        "  'com.YorubaNation.android607bf77711d21','ng.com.evendor.evendormedia','com.app.yudiapp04','com.chucky.ydqaqsjtewzgctavsea',\n",
        " 'com.chucky.ydqaqsjtewzgctavsea','com.hype.muktvblksv__xrankhiw','com.app.nollytubby','hausa.radio.tv','com.KissDaniel.bestsongs',\n",
        "  'com.andromo.dev614087.app1001809','kizz.danielsongs','com.newandromo.dev500880.app771946','kizz.daniel',\n",
        "  'com.jerryjoshua.kizzdanielsongsoffline','com.MhmdAsriyandi.kisdanielsngplsly','kizz.danielsongs.pmv','com.simi.dev.app1074952',      \n",
        "  'com.tekno.miles.middoff','com.class_pluss.nigerian_gospel_music','com.flavour.songs.lasthitrs','com.andromo.dev739265.app965443',    \n",
        " 'com.ww9jaflaver_12498169','chike.latestsongsapp2021','com.habib.timaya.music','ng.epoh',\n",
        "'joeboy.apliczxk','frank.edward','flavour.allsongs2','com.naijagospelmusicmix.aykco',\n",
        " 'com.ebfourapp.android609279aa7753d','com.net.aemaward','com.servotronicstech.LTV','com.lynxltd.app.android.virtualnigeria',\n",
        "  'com.lynxltd.app.android.virtualnigeria','teni.musicapp','com.allaboutradio.radiofmnigeria',                         \n",
        "  'com.appmind.radios.ng','com.audionowdigital.player.freshfm','com.zenomedia.player.radiobiafra','naijanews.app',          \n",
        " 'com.diamond_fm_app','com.big.brother.naija.bbnaija.app.live.tv','com.latest.nigerian.movies',\n",
        " 'com.latest.nigeria.newspapers.read.offline','com.app.thrilliantnigeriatvc','com.channelstv.channels.mobile',\n",
        " 'com.audionowdigital.player.channels24','com.iqjoy.ayoad.arisetv',\n",
        " 'com.iqjoy.ayoad.arisetv','com.iqjoy.ayoad.arisetv','com.app.thrilliantnigeriamaxfmng',                        #\n",
        " 'com.ohenemaapps.MOVIESNIGERIAMOVIES','com.ohenemaapps.LATESTNIGERIANMOVIESAFRICANMOVIES',\n",
        " 'com.ohenemaapps.MOVIESLATESTNIGERIANNOLLYWOODMOVIES','com.ohenemaapps.NOLLYWOODTVSERIES',\n",
        "  'akipawpaw.comedy1','com.walay.NigerianMovieWorld','com.cmtai.nigerianmovies','com.naija.naija_comedy_sounds',\n",
        "  'apps.rameen.NollywoodHdMovies','com.ohenemaapps.MamaAfricaAfricanMovies',\n",
        " 'com.ohenemaapps.AfricanMovie', \n",
        " 'com.vestedapps.nollywoodpicturestvapp.movie','ng.com.evendor.evendormedia','com.hausa.movies.nigeria',\n",
        " 'com.vestedapps.MarkAngel.Comedy','nigeria.bestforum','naijaloaded.mobileapp','online.games20','nairaland.forum3',\n",
        "  'com.app.naijamp','com.andromo.dev663676.app699212','arewa.nishadi','arewa.hausatv','com.greenspek.tearsofthelonely',\n",
        " 'com.andromo.dev700805.app892841','com.andromo.dev492494.app703636',\n",
        "'com.andromo.dev775341.app871235','com.tulix.viewsatdroidtab','com.nollyland.vod','com.funjokephots.app',            #\n",
        "'com.gtbank.habari','com.ibakatv.mobile','com.ibakatv.mobile','nigeria.comedy.sound.effect','nigeria.comedy.sound.effect',\n",
        "'com.naija.naija_comedy_sounds','nigeria.comedy.sound.effect.meme','com.maraki_nija_new_comedy','com.getjoydev.allnigeriaradio',\n",
        " 'com.logadev.nigerian_comedy_bm','com.andromo.dev454490.app475174','com.andromo.dev663676.app660598',       \n",
        "  'com.vestedserver.KansiimeAnneComedy','com.aphoe.naijafunnyvideos','thunder_and_lightning_sounds.manitdev.info',\n",
        "  'com.lawztech.urubamoviesapp','com.lawztech.urubamoviesapp','com.app.delonifera','com.vestedapps.yoruba.comedy',   \n",
        " 'lasisi.elenucomedy','com.app_dev_coders.funny_sounds','com.dailyjokeapp.dailyjoke','com.skithouse',                               #\n",
        "  'com.dzigbodiapps.AYComedian','com.ohenemaapps.AfricanNigerianLatestMovies','com.andromo.dev874697.app1046574',\n",
        " 'soc.searchgif','com.vestedapps.sirbaloclinic.comedy','com.cresteddevelopers.comedymaulanareign',           \n",
        " 'com.vestedapps.rorohouse.comedy','ontv.nigeria','com.mountzion.adeosun.videotube','com.wInstantMemeMaker',\n",
        "  'com.olu.jacobs.movies',\n",
        "  'ng.com.piccmaq.pmqmovies','bibzaria.danminister','com.AfrigoldTv','com.abdallahnas.ydeentv','com.abuja.abujaiptviptv',\n",
        " 'com.agbaletu.android','com.andromo.dev808046.app1012441','com.kannywood.app','io.kodular.modunur.Bakoritv',               \n",
        "  'com.focusonnaija.ng','com.newandromo.dev235783.app608977','test.aplipqo','com.newandromo.dev235783.app608977','hausa.novels',\n",
        " 'bibzaria.arifat','bibzaria.dalilinso','com.studio7globalvision.studio7GV','appjaiztvcom.wpapp','com.cmetv.television',              \n",
        " 'com.naijahotstars.mobile','namijin.kishi','com.andromo.dev701988.app918203','musha.dariya3',\n",
        " 'kundin.dariya','naijaloaded.aplinuo','com.emmanuella.comedypro','com.jara.tv','madlipz.eigenuity.com','com.afrovid.emma',\n",
        " 'com.ebfourapp.android607541a350848','com.andromo.dev706374.app989448',\n",
        " 'com.cresteddevelopers.wizkid','com.andromo.dev771324.app870356','com.taskar.ala.entertainment',                             \n",
        " 'com.andromo.dev700805.app858835','com.andromo.dev689153.app746161','com.andromo.dev700805.app903703',\n",
        " 'com.autodiwan','com.andromo.dev663676.app716050','maftaldaren.farko','com.andromo.dev677250.app686161',\n",
        "  'com.andromo.dev677250.app686383','com.andromo.dev677250.app686360','com.andromo.dev677250.app686205',                       \n",
        "  'com.haske247.app','com.kallo247.app','com.sauti.haske247','com.andromo.dev847738.app989449','com.radio.ayefelefresh',\n",
        " 'com.audionowdigital.player.freshfm','com.agidigbo.radio','com.unitedstatesradios.agidigboradio',     \n",
        "  'com.hausate7levision.android','com.newandromo.dev14664.app689378','com.andromo.dev739265.app999469',\n",
        "  'com.andromo.dev872461.app1020140','com.yusadolat.evidenceradio','com.ohenemaapps.SamSpedyComedy',                   #                             \n",
        "  'samspedy.comedy.videos.samspedycomedyvideosojo','com.andromo.dev803101.app939371','dj.mixtapes.naija.spolam',               \n",
        "  'com.newkinko.tvnigeria','com.brandage.nta2','com.Northflix.app','instablog.newsapp',\n",
        "  'com.intradot.oyawatch','com.app.rslotto','doingapps.babaijebu','ng.lottery.results.babaijebu','com.congatv.app2',           \n",
        " 'com.andromo.dev492494.app702619','com.kundi.bstgwanja','com.andromo.dev775341.app874019','com.andromo.dev856641.app973842',\n",
        " 'com.andromo.dev775341.app957397','com.andromo.dev492494.app703636','com.andromo.dev553557.app739868',\n",
        " 'com.andromo.dev765151.app866245','com.kundi.umarsanyi','com.latesthausamusic.videos',\n",
        "  'com.gwabs.hausamusicplayer','com.andromo.dev677250.app723952','com.mbaka.ui','com.andromo.dev602556.app583308',\n",
        "  'com.andromo.dev492494.app706944','com.andromo.dev658544.app725050','com.andromo.dev677250.app708660',                 #\n",
        "  'com.andromo.dev492494.app706944','com.andromo.dev658544.app725050','com.andromo.dev677250.app708660',\n",
        "  'com.andromo.dev492494.app706944','com.andromo.dev658544.app725050','com.andromo.dev677250.app708660',\n",
        " 'com.andromo.dev492494.app706944','com.andromo.dev658544.app725050','com.andromo.dev677250.app708660',\n",
        " 'com.andromo.dev677250.app686360','com.aghani.soudan.sonlikaer','com.andromo.dev700805.app858834',\n",
        " 'com.andromo.dev663676.app681569','com.andromo.dev809073.app999508','com.dangargajiyya.ladan',              #\n",
        " 'fun.OneThousandnights.cinema','iq.delta.media','com.stickerfmradio','com.tambayoyin.gefentiti',                                 \n",
        " 'com.publicvine.nigeria','com.legazy.player','lovebook.app','hopangga.queennaija.lyrics',\n",
        " 'io.cordova.gboah','com.app.delonifera','io.gonative.android.dznyaz','com.app.deloniferatv','com.rootsvideo',\n",
        " 'com.andromo.dev546104.app1005559','com.newandromo.dev500880.app1283749','com.live247stream.rtmtv',\n",
        "'air.com.adeolasonola.beautifulminds','com.andromo.dev872461.app995822','com.woliagba','com.vestedapps.Kenya.RiverWoodFilms.movie',   \n",
        "'com.newandromo.dev21254.app613562','org.equalaccess.arewa24','online.imastudio.blackaxesongsakaaye',\n",
        " 'com.servotronicstech.InspirationRadio','com.comform951fm.apk','com.CLASSICFM.Nigeria','com.CityFM.Nigeria',\n",
        "  'com.primcast.ekofm','com.merakiapp.max1023fmlagosradiogratisparacelularlive','com.planetaapps.lagosradioonline.radiolagos',      \n",
        "  'com.net.aemaward','com.servotronicstech.LTV','com.lynxltd.app.android.virtualnigeria',\n",
        " 'com.lynxltd.app.android.virtualnigeria','teni.musicapp','com.allaboutradio.radiofmnigeria','com.appmind.radios.ng',\n",
        "  'com.audionowdigital.player.freshfm','com.zenomedia.player.radiobiafra','naijanews.app','com.diamond_fm_app',                           \n",
        "  'com.big.brother.naija.bbnaija.app.live.tv','com.latest.nigerian.movies','com.latest.nigeria.newspapers.read.offline',\n",
        "  'com.app.thrilliantnigeriatvc','com.channelstv.channels.mobile','com.audionowdigital.player.channels24','com.iqjoy.ayoad.arisetv',     \n",
        " 'com.iqjoy.ayoad.arisetv','com.iqjoy.ayoad.arisetv','com.app.thrilliantnigeriamaxfmng',                     \n",
        "'com.ohenemaapps.MOVIESNIGERIAMOVIES','com.ohenemaapps.LATESTNIGERIANMOVIESAFRICANMOVIES',\n",
        " 'com.ohenemaapps.MOVIESLATESTNIGERIANNOLLYWOODMOVIES','com.ohenemaapps.NOLLYWOODTVSERIES',         \n",
        " 'akipawpaw.comedy1','com.walay.NigerianMovieWorld','com.cmtai.nigerianmovies',\n",
        "'com.naija.naija_comedy_sounds','apps.rameen.NollywoodHdMovies',\n",
        "'com.ohenemaapps.MamaAfricaAfricanMovies','com.ohenemaapps.AfricanMovie',        \n",
        " 'com.vestedapps.nollywoodpicturestvapp.movie','ng.com.evendor.evendormedia',\n",
        " 'com.hausa.movies.nigeria','com.vestedapps.MarkAngel.Comedy','nigeria.bestforum','naijaloaded.mobileapp','online.games20',\n",
        "  'nairaland.forum3','com.app.naijamp','com.andromo.dev663676.app699212','arewa.nishadi','arewa.hausatv',                         \n",
        " 'com.greenspek.tearsofthelonely','com.andromo.dev700805.app892841',\n",
        " 'com.andromo.dev492494.app703636','com.tulix.viewsatdroidtab','com.nollyland.vod',\n",
        " 'com.funjokephots.app','com.gtbank.habari','com.ibakatv.mobile','com.ibakatv.mobile','nigeria.comedy.sound.effect',\n",
        " 'nigeria.comedy.sound.effect','com.naija.naija_comedy_sounds','nigeria.comedy.sound.effect.meme','com.maraki_nija_new_comedy',\n",
        "  'com.getjoydev.allnigeriaradio','com.logadev.nigerian_comedy_bm','com.andromo.dev454490.app475174',     \n",
        " 'com.andromo.dev663676.app660598','com.aphoe.naijafunnyvideos',\n",
        "  'thunder_and_lightning_sounds.manitdev.info','com.lawztech.urubamoviesapp','com.lawztech.urubamoviesapp',          \n",
        "  'com.app.delonifera','com.vestedapps.yoruba.comedy','lasisi.elenucomedy','com.app_dev_coders.funny_sounds',\n",
        "  'com.dailyjokeapp.dailyjoke','com.skithouse','com.dzigbodiapps.AYComedian','com.ohenemaapps.AfricanNigerianLatestMovies',\n",
        " 'com.andromo.dev874697.app1046574','soc.searchgif','com.vestedapps.sirbaloclinic.comedy',\n",
        " 'com.cresteddevelopers.comedymaulanareign','com.vestedapps.rorohouse.comedy','ontv.nigeria',          \n",
        "  'com.mountzion.adeosun.videotube','com.wInstantMemeMaker',\n",
        " 'com.olu.jacobs.movies','ng.com.piccmaq.pmqmovies',                #\n",
        "  'bibzaria.danminister','com.AfrigoldTv','com.abdallahnas.ydeentv','com.abuja.abujaiptviptv','com.agbaletu.android',\n",
        "  'com.andromo.dev808046.app1012441','com.kannywood.app','io.kodular.modunur.Bakoritv','com.focusonnaija.ng',\n",
        "  'com.newandromo.dev235783.app608977','test.aplipqo','com.newandromo.dev235783.app608977','hausa.novels','bibzaria.arifat',\n",
        "  'bibzaria.dalilinso','com.studio7globalvision.studio7GV','appjaiztvcom.wpapp','com.cmetv.television','na.laugh.com',\n",
        "  'com.naijahotstars.mobile','namijin.kishi']\n",
        "\n",
        "RESULT = []\n",
        "for ngApp in ngApps:\n",
        " # pprint(ngApps)\n",
        "  result2 = app(\n",
        "      app_id = ngApp,\n",
        "      lang='en', # defaults to 'en'\n",
        "      country='ng' # set country to 'ng'\n",
        "    )\n",
        "  RESULT.append(result2)\n"
      ],
      "execution_count": null,
      "outputs": []
    },
    {
      "cell_type": "code",
      "metadata": {
        "id": "muqkjUnsvqRc"
      },
      "source": [
        "keys = [\"title\", \"summary\", \"free\", \"genre\", \"installs\", \"ratings\", \"price\", \"size\", \n",
        "        \"contentRating\", \"reviews\", \"released\", \"adSupported\", \"sale\", \"score\", \"similarApps\", \"version\"]\n",
        "APP = []\n",
        "\n",
        "for result in RESULT:\n",
        "  appDetail2 = {key: result[key] for key in keys }\n",
        "  APP.append(appDetail2)"
      ],
      "execution_count": null,
      "outputs": []
    },
    {
      "cell_type": "code",
      "metadata": {
        "colab": {
          "base_uri": "https://localhost:8080/"
        },
        "id": "vIt1obD-utrS",
        "outputId": "221b6f93-1af8-4c4c-d5bc-83af526eacc9"
      },
      "source": [
        "entertainment_data_df = pd.DataFrame(APP)\n",
        "len(entertainment_data_df)"
      ],
      "execution_count": null,
      "outputs": [
        {
          "output_type": "execute_result",
          "data": {
            "text/plain": [
              "358"
            ]
          },
          "metadata": {},
          "execution_count": 249
        }
      ]
    },
    {
      "cell_type": "code",
      "metadata": {
        "colab": {
          "base_uri": "https://localhost:8080/",
          "height": 598
        },
        "id": "ChLs1dVPnnU0",
        "outputId": "b9dc5170-c8c3-44ab-bfa8-3033755ce8ab"
      },
      "source": [
        "entertainment_data_df.head()"
      ],
      "execution_count": null,
      "outputs": [
        {
          "output_type": "execute_result",
          "data": {
            "text/html": [
              "<div>\n",
              "<style scoped>\n",
              "    .dataframe tbody tr th:only-of-type {\n",
              "        vertical-align: middle;\n",
              "    }\n",
              "\n",
              "    .dataframe tbody tr th {\n",
              "        vertical-align: top;\n",
              "    }\n",
              "\n",
              "    .dataframe thead th {\n",
              "        text-align: right;\n",
              "    }\n",
              "</style>\n",
              "<table border=\"1\" class=\"dataframe\">\n",
              "  <thead>\n",
              "    <tr style=\"text-align: right;\">\n",
              "      <th></th>\n",
              "      <th>title</th>\n",
              "      <th>summary</th>\n",
              "      <th>free</th>\n",
              "      <th>genre</th>\n",
              "      <th>installs</th>\n",
              "      <th>ratings</th>\n",
              "      <th>price</th>\n",
              "      <th>size</th>\n",
              "      <th>contentRating</th>\n",
              "      <th>reviews</th>\n",
              "      <th>released</th>\n",
              "      <th>adSupported</th>\n",
              "      <th>sale</th>\n",
              "      <th>score</th>\n",
              "      <th>similarApps</th>\n",
              "      <th>version</th>\n",
              "    </tr>\n",
              "  </thead>\n",
              "  <tbody>\n",
              "    <tr>\n",
              "      <th>0</th>\n",
              "      <td>Afrobyt</td>\n",
              "      <td>Afrobyt is the home of the best African short ...</td>\n",
              "      <td>True</td>\n",
              "      <td>Entertainment</td>\n",
              "      <td>10+</td>\n",
              "      <td>NaN</td>\n",
              "      <td>0</td>\n",
              "      <td>14M</td>\n",
              "      <td>Rated for 3+</td>\n",
              "      <td>0.0</td>\n",
              "      <td>Jan 18, 2020</td>\n",
              "      <td>None</td>\n",
              "      <td>False</td>\n",
              "      <td>0.000000</td>\n",
              "      <td>[com.enprohsoft.app.nevadabridgetv, com.qello....</td>\n",
              "      <td>1.3</td>\n",
              "    </tr>\n",
              "    <tr>\n",
              "      <th>1</th>\n",
              "      <td>Abuja IPTV Box</td>\n",
              "      <td>Abuja IPTVBox App  provides the facility to wa...</td>\n",
              "      <td>True</td>\n",
              "      <td>Entertainment</td>\n",
              "      <td>50+</td>\n",
              "      <td>NaN</td>\n",
              "      <td>0</td>\n",
              "      <td>64M</td>\n",
              "      <td>Rated for 3+</td>\n",
              "      <td>0.0</td>\n",
              "      <td>Dec 12, 2019</td>\n",
              "      <td>None</td>\n",
              "      <td>False</td>\n",
              "      <td>0.000000</td>\n",
              "      <td>None</td>\n",
              "      <td>2.2.2</td>\n",
              "    </tr>\n",
              "    <tr>\n",
              "      <th>2</th>\n",
              "      <td>YorubaPlay for  Latest Yoruba Movies</td>\n",
              "      <td>YorubaPlay for  Latest Yoruba Movies in Nigeri...</td>\n",
              "      <td>True</td>\n",
              "      <td>Entertainment</td>\n",
              "      <td>10,000+</td>\n",
              "      <td>55.0</td>\n",
              "      <td>0</td>\n",
              "      <td>13M</td>\n",
              "      <td>Rated for 3+</td>\n",
              "      <td>27.0</td>\n",
              "      <td>Jul 1, 2020</td>\n",
              "      <td>True</td>\n",
              "      <td>False</td>\n",
              "      <td>3.909091</td>\n",
              "      <td>[com.Timaya.bestsongs, com.coinchain, com.Kiss...</td>\n",
              "      <td>1.0.4</td>\n",
              "    </tr>\n",
              "    <tr>\n",
              "      <th>3</th>\n",
              "      <td>Yoruba Nigeria Movies</td>\n",
              "      <td>Latest and Interesting Yoruba Movies, Films, D...</td>\n",
              "      <td>True</td>\n",
              "      <td>Entertainment</td>\n",
              "      <td>100,000+</td>\n",
              "      <td>1013.0</td>\n",
              "      <td>0</td>\n",
              "      <td>3.4M</td>\n",
              "      <td>Rated for 16+</td>\n",
              "      <td>281.0</td>\n",
              "      <td>Sep 8, 2014</td>\n",
              "      <td>True</td>\n",
              "      <td>False</td>\n",
              "      <td>4.277228</td>\n",
              "      <td>[com.npfltv.tv2u, com.iqjoy.ayoad.arisetv, com...</td>\n",
              "      <td>1.0</td>\n",
              "    </tr>\n",
              "    <tr>\n",
              "      <th>4</th>\n",
              "      <td>Yoruba Movies</td>\n",
              "      <td>Watch various Nigerian Yoruba, English films, ...</td>\n",
              "      <td>True</td>\n",
              "      <td>Entertainment</td>\n",
              "      <td>5,000+</td>\n",
              "      <td>46.0</td>\n",
              "      <td>0</td>\n",
              "      <td>7.2M</td>\n",
              "      <td>Rated for 3+</td>\n",
              "      <td>18.0</td>\n",
              "      <td>Apr 17, 2020</td>\n",
              "      <td>True</td>\n",
              "      <td>False</td>\n",
              "      <td>3.673913</td>\n",
              "      <td>[en.yo.bestdict]</td>\n",
              "      <td>52</td>\n",
              "    </tr>\n",
              "  </tbody>\n",
              "</table>\n",
              "</div>"
            ],
            "text/plain": [
              "                                  title  ... version\n",
              "0                               Afrobyt  ...     1.3\n",
              "1                        Abuja IPTV Box  ...   2.2.2\n",
              "2  YorubaPlay for  Latest Yoruba Movies  ...   1.0.4\n",
              "3                 Yoruba Nigeria Movies  ...     1.0\n",
              "4                         Yoruba Movies  ...      52\n",
              "\n",
              "[5 rows x 16 columns]"
            ]
          },
          "metadata": {},
          "execution_count": 250
        }
      ]
    },
    {
      "cell_type": "markdown",
      "metadata": {
        "id": "HNCcsguGy5QJ"
      },
      "source": [
        ""
      ]
    },
    {
      "cell_type": "code",
      "metadata": {
        "id": "KNnDG3eTvDSr"
      },
      "source": [
        "entertainment_data_df.to_csv(\"/content/drive/MyDrive/Colab Notebooks/Entertainment.csv\", index=False)"
      ],
      "execution_count": null,
      "outputs": []
    },
    {
      "cell_type": "markdown",
      "metadata": {
        "id": "REZrUPd6wWpn"
      },
      "source": [
        "# Financial Apps"
      ]
    },
    {
      "cell_type": "code",
      "metadata": {
        "id": "VU6kQtSPwTN9"
      },
      "source": [
        "ngApps = ['com.piggybankng.piggy',\n",
        "          'com.invest.bamboo', 'com.wemabank.alat.prod','com.akawo.naija.android',\n",
        "          'com.shago','com.obounce.oneapp1','com.qsoft.aidapay','com.frankappweb.vtu','com.rinselab.cheapdatang',\n",
        "          'app.vtpass.com','com.finch_agent_mobile_app',\n",
        "          'com.nownow.android',\n",
        "          'com.iisysgroup.payviceForAgents',\n",
        "          'com.iisysgroup.payvice',\n",
        "          'com.iisysgroup.androidlite','com.ectivoapp.merchant',#'cash.com.cashapp.finance.budget.manager.money',\n",
        "          'com.transsnet.palmpartner','com.Recharge2Cash.Techpaded','com.eversendapp','ng.mmg.cloudbank',\n",
        "          'com.qbills.app','com.packet.toju','com.goiwelkin.android','com.panthelope.cryptorize.mobile.cryptorize',\n",
        "          'com.dockthor.giftcardstonaira','com.cryptocurrency.jtechtrade','com.ikonik.monicspay', 'com.ikonik.monicspay','com.truesaver.truesaver','com.munawallet.muna','com.paycom.app',\n",
        "          'com.mybitcart.app','com.delepay','com.ecocash.saremit.production','com.supervas.quickbuy', 'com.paynyce.flippay','conversor.conversaotaxasbasico.cnyngn',\n",
        "          'conversor.conversaotaxasbasico.usdngn','com.greatcallie.abokiforex','conversor.conversaotaxasbasico.eurngn',\n",
        "          'com.quicknaira.cashloan.personalloanapp.creditcash.instant.easylittle.nowloan.kashview.paypal',\n",
        "          'com.CT.NAIRAMONEY',\n",
        "          'com.cash9ja.credit.loan.gtbank.opay.nigeria','com.sterling.edubanc','ng.jiji.app','com.vs.appmarket.nigeria','com.transsnet.palmpay', 'com.naij.android','com.jumia.android','com.interswitchng.www','com.uba.vericash','com.zenithBank.eazymoney',\n",
        "          'com.firstbank.firstmobile','com.accessbank.accessbankapp','com.vanso.gtbankapp','com.kudabank.app','team.opay.pay','com.mypaga.customer','com.gtbank.gtworldv1','com.loan.cash.credit.okash.nigeria','com.jumia.one.android',\n",
        "          'com.piggybankng.piggy','ai.kudi.agent','com.ceva.ubmobile.stallion','com.stanbicibtc.mobile',\n",
        "          'com.qucoon.keystonemobilebankingapp',\n",
        "          'com.sc.breezenigeria.banking','com.cousant.naijainvest','ng.wealth','com.wahed.mobile','com.systemspecs.remitamobile','com.ceva.firstmoniewallet','com.cash9ja.credit.loan.gtbank.opay.nigeria', 'com.fastmoney.loan.credit.cash.nigeria','com.loan.money.credit.nigeria.gocash',\n",
        "          'ni.lcredit.money.cash',\n",
        "          'com.pbank.newcredit','com.imoney.credit.nira','com.renmoney.android','com.transsnetfinancial.palmcredit','io.quickcheck.loans','com.lenddo.mobile.paylater','com.arvofinance.arvofinance','com.parkway.readycashmobile',\n",
        "          'com.aella.comportal','com.pbank.newcredit','com.branch_international.branch.branch_demo_android','co.busha.android','africa.bundle.mobile.app','com.roqqu.app','com.quidax.app','loadng.com.loadng','com.chiji14xchange',\n",
        "          'com.bitpezapro.app','com.app.cryptofully','com.jackocoins.app','com.newgo.coincola','com.abit.abitraderapp','com.app.Abokifx','moneymie.bank.nigeria.remit.sendmoney',\n",
        "          'com.overwood.overwood','com.hervest','com.investa.ng','com.farmcrowdyapp','com.rise.mobile','com.truesaver.truesaver','world.sumobank.app','com.fundall.io',\n",
        "          'com.newpaydayloan.connection','ng.wallet.app','com.tajbank.app','com.obounce.oneapp1','com.paymyrentng.paymyrent','com.appzonegroup.app.creditcluboffline','com.appzonegroup.app.creditclub.plus',\n",
        "          'com.kiakia.p2p',\n",
        "          'ng.bankly.bankly.agent','com.ionicframework.buypowerapp334891',\n",
        "          'com.paycom.app',\n",
        "          'com.prospa',\n",
        "          'cellulant.com.ng.tingg',\n",
        "          'com.hometown.app',\n",
        "          'com.ng.palmsave',\n",
        "          'com.iisysgroup.payvice',\n",
        "          'com.m_naira','io.frismobile.com','com.axamansard.app',\n",
        "          'com.sociallender.app','com.sociallender.app','com.rmeideas.yochaa','com.bitpezapro.app','com.suregifts.sureremit','com.btcnaira','com.abegapp','com.swapix.ng',\n",
        "          'com.nipek.cdcare','com.mintfintech.app','com.stashng','com.companyname.loanapp','com.pettysave.app','upperlink.kadapp.com','com.arenafinancialsapp', 'lite.lmpay',\n",
        "          'com.ikonik.sb_communications','com.ast_nigeria_insurance.nigeria_insu','com.marineso.wallet','com.livingstone.insurancehub']"
      ],
      "execution_count": null,
      "outputs": []
    },
    {
      "cell_type": "code",
      "metadata": {
        "id": "WjID7jVmpY3x"
      },
      "source": [
        "RESULT = []\n",
        "count = 0\n",
        "for ngApp in ngApps:\n",
        "  count += 1\n",
        "  result2 = app(\n",
        "      app_id = ngApp,\n",
        "      lang='en', # defaults to 'en'\n",
        "      country='ng' # set country to 'ng'\n",
        "  )\n",
        "  RESULT.append(result2)"
      ],
      "execution_count": null,
      "outputs": []
    },
    {
      "cell_type": "code",
      "metadata": {
        "id": "cvYdDmaepjWU"
      },
      "source": [
        "keys = ['appId', 'summary', 'free', 'genre', 'installs', 'ratings', 'price', 'size', \\\n",
        "        'contentRating', 'reviews', 'released', 'adSupported', 'sale', 'editorsChoice']\n",
        "APP = []\n",
        "\n",
        "for result in RESULT:\n",
        "  appDetail2 = {key: result[key] for key in keys }\n",
        "  APP.append(appDetail2)"
      ],
      "execution_count": null,
      "outputs": []
    },
    {
      "cell_type": "code",
      "metadata": {
        "id": "sGEXvpaiqGpQ"
      },
      "source": [
        "Financial_df = pd.DataFrame(APP)"
      ],
      "execution_count": null,
      "outputs": []
    },
    {
      "cell_type": "code",
      "metadata": {
        "colab": {
          "base_uri": "https://localhost:8080/",
          "height": 906
        },
        "id": "d6BvpCvGsFJZ",
        "outputId": "f146da08-78ec-42ef-f7d3-fe3a01280922"
      },
      "source": [
        "Financial_df.head(n=10)"
      ],
      "execution_count": null,
      "outputs": [
        {
          "data": {
            "text/html": [
              "<div>\n",
              "<style scoped>\n",
              "    .dataframe tbody tr th:only-of-type {\n",
              "        vertical-align: middle;\n",
              "    }\n",
              "\n",
              "    .dataframe tbody tr th {\n",
              "        vertical-align: top;\n",
              "    }\n",
              "\n",
              "    .dataframe thead th {\n",
              "        text-align: right;\n",
              "    }\n",
              "</style>\n",
              "<table border=\"1\" class=\"dataframe\">\n",
              "  <thead>\n",
              "    <tr style=\"text-align: right;\">\n",
              "      <th></th>\n",
              "      <th>appId</th>\n",
              "      <th>summary</th>\n",
              "      <th>free</th>\n",
              "      <th>genre</th>\n",
              "      <th>installs</th>\n",
              "      <th>ratings</th>\n",
              "      <th>price</th>\n",
              "      <th>size</th>\n",
              "      <th>contentRating</th>\n",
              "      <th>reviews</th>\n",
              "      <th>released</th>\n",
              "      <th>adSupported</th>\n",
              "      <th>sale</th>\n",
              "      <th>editorsChoice</th>\n",
              "    </tr>\n",
              "  </thead>\n",
              "  <tbody>\n",
              "    <tr>\n",
              "      <th>0</th>\n",
              "      <td>com.piggybankng.piggy</td>\n",
              "      <td>10% - 13% on savings &amp; up to 25% returns on in...</td>\n",
              "      <td>True</td>\n",
              "      <td>Finance</td>\n",
              "      <td>1,000,000+</td>\n",
              "      <td>36689.0</td>\n",
              "      <td>0</td>\n",
              "      <td>Varies with device</td>\n",
              "      <td>Rated for 3+</td>\n",
              "      <td>23480</td>\n",
              "      <td>Oct 31, 2018</td>\n",
              "      <td>None</td>\n",
              "      <td>False</td>\n",
              "      <td>False</td>\n",
              "    </tr>\n",
              "    <tr>\n",
              "      <th>1</th>\n",
              "      <td>com.invest.bamboo</td>\n",
              "      <td>Investments made easy</td>\n",
              "      <td>True</td>\n",
              "      <td>Finance</td>\n",
              "      <td>500,000+</td>\n",
              "      <td>2398.0</td>\n",
              "      <td>0</td>\n",
              "      <td>20M</td>\n",
              "      <td>Rated for 3+</td>\n",
              "      <td>1575</td>\n",
              "      <td>Oct 18, 2019</td>\n",
              "      <td>None</td>\n",
              "      <td>False</td>\n",
              "      <td>False</td>\n",
              "    </tr>\n",
              "    <tr>\n",
              "      <th>2</th>\n",
              "      <td>com.wemabank.alat.prod</td>\n",
              "      <td>Nigeria's first fully digital bank, designed t...</td>\n",
              "      <td>True</td>\n",
              "      <td>Finance</td>\n",
              "      <td>500,000+</td>\n",
              "      <td>15423.0</td>\n",
              "      <td>0</td>\n",
              "      <td>34M</td>\n",
              "      <td>Rated for 3+</td>\n",
              "      <td>9028</td>\n",
              "      <td>Apr 21, 2017</td>\n",
              "      <td>None</td>\n",
              "      <td>False</td>\n",
              "      <td>False</td>\n",
              "    </tr>\n",
              "    <tr>\n",
              "      <th>3</th>\n",
              "      <td>com.akawo.naija.android</td>\n",
              "      <td>Akawo Naija is a rotational savings club.</td>\n",
              "      <td>True</td>\n",
              "      <td>Finance</td>\n",
              "      <td>100+</td>\n",
              "      <td>NaN</td>\n",
              "      <td>0</td>\n",
              "      <td>5.3M</td>\n",
              "      <td>Rated for 3+</td>\n",
              "      <td>0</td>\n",
              "      <td>Nov 8, 2020</td>\n",
              "      <td>None</td>\n",
              "      <td>False</td>\n",
              "      <td>False</td>\n",
              "    </tr>\n",
              "    <tr>\n",
              "      <th>4</th>\n",
              "      <td>com.shago</td>\n",
              "      <td>App for e-trading of goods &amp; services, payment...</td>\n",
              "      <td>True</td>\n",
              "      <td>Business</td>\n",
              "      <td>10,000+</td>\n",
              "      <td>251.0</td>\n",
              "      <td>0</td>\n",
              "      <td>49M</td>\n",
              "      <td>Rated for 3+</td>\n",
              "      <td>156</td>\n",
              "      <td>Jan 1, 2020</td>\n",
              "      <td>None</td>\n",
              "      <td>False</td>\n",
              "      <td>False</td>\n",
              "    </tr>\n",
              "    <tr>\n",
              "      <th>5</th>\n",
              "      <td>com.obounce.oneapp1</td>\n",
              "      <td>One app for all payments at the cheapest price...</td>\n",
              "      <td>True</td>\n",
              "      <td>Finance</td>\n",
              "      <td>10,000+</td>\n",
              "      <td>1092.0</td>\n",
              "      <td>0</td>\n",
              "      <td>36M</td>\n",
              "      <td>Rated for 3+</td>\n",
              "      <td>761</td>\n",
              "      <td>Jun 9, 2020</td>\n",
              "      <td>None</td>\n",
              "      <td>False</td>\n",
              "      <td>False</td>\n",
              "    </tr>\n",
              "    <tr>\n",
              "      <th>6</th>\n",
              "      <td>com.qsoft.aidapay</td>\n",
              "      <td>Buy Cheap Data, Airtime, Cable TV &amp; Electricity</td>\n",
              "      <td>True</td>\n",
              "      <td>Finance</td>\n",
              "      <td>5,000+</td>\n",
              "      <td>72.0</td>\n",
              "      <td>0</td>\n",
              "      <td>2.4M</td>\n",
              "      <td>Rated for 3+</td>\n",
              "      <td>61</td>\n",
              "      <td>Oct 25, 2020</td>\n",
              "      <td>None</td>\n",
              "      <td>False</td>\n",
              "      <td>False</td>\n",
              "    </tr>\n",
              "    <tr>\n",
              "      <th>7</th>\n",
              "      <td>com.frankappweb.vtu</td>\n",
              "      <td>Buy/Resell Cheap Data, Cable TV, Electricity; ...</td>\n",
              "      <td>True</td>\n",
              "      <td>Productivity</td>\n",
              "      <td>10,000+</td>\n",
              "      <td>332.0</td>\n",
              "      <td>0</td>\n",
              "      <td>1.7M</td>\n",
              "      <td>Rated for 3+</td>\n",
              "      <td>267</td>\n",
              "      <td>Jul 29, 2020</td>\n",
              "      <td>None</td>\n",
              "      <td>False</td>\n",
              "      <td>False</td>\n",
              "    </tr>\n",
              "    <tr>\n",
              "      <th>8</th>\n",
              "      <td>com.rinselab.cheapdatang</td>\n",
              "      <td>Affordable Data, Airtime, Bill Payments, Elect...</td>\n",
              "      <td>True</td>\n",
              "      <td>Productivity</td>\n",
              "      <td>50,000+</td>\n",
              "      <td>2106.0</td>\n",
              "      <td>0</td>\n",
              "      <td>5.4M</td>\n",
              "      <td>Rated for 3+</td>\n",
              "      <td>1570</td>\n",
              "      <td>Feb 9, 2018</td>\n",
              "      <td>None</td>\n",
              "      <td>False</td>\n",
              "      <td>False</td>\n",
              "    </tr>\n",
              "    <tr>\n",
              "      <th>9</th>\n",
              "      <td>app.vtpass.com</td>\n",
              "      <td>VT pass App is for phone airtime,&amp;data, TV sub...</td>\n",
              "      <td>True</td>\n",
              "      <td>Finance</td>\n",
              "      <td>100,000+</td>\n",
              "      <td>453.0</td>\n",
              "      <td>0</td>\n",
              "      <td>6.8M</td>\n",
              "      <td>Rated for 3+</td>\n",
              "      <td>325</td>\n",
              "      <td>Jan 2, 2018</td>\n",
              "      <td>None</td>\n",
              "      <td>False</td>\n",
              "      <td>False</td>\n",
              "    </tr>\n",
              "  </tbody>\n",
              "</table>\n",
              "</div>"
            ],
            "text/plain": [
              "                      appId  ... editorsChoice\n",
              "0     com.piggybankng.piggy  ...         False\n",
              "1         com.invest.bamboo  ...         False\n",
              "2    com.wemabank.alat.prod  ...         False\n",
              "3   com.akawo.naija.android  ...         False\n",
              "4                 com.shago  ...         False\n",
              "5       com.obounce.oneapp1  ...         False\n",
              "6         com.qsoft.aidapay  ...         False\n",
              "7       com.frankappweb.vtu  ...         False\n",
              "8  com.rinselab.cheapdatang  ...         False\n",
              "9            app.vtpass.com  ...         False\n",
              "\n",
              "[10 rows x 14 columns]"
            ]
          },
          "execution_count": 34,
          "metadata": {},
          "output_type": "execute_result"
        }
      ]
    },
    {
      "cell_type": "code",
      "metadata": {
        "id": "P53aJGwfsJq9"
      },
      "source": [
        "Financial_df.to_csv(\"Finance.csv\", index=False)"
      ],
      "execution_count": null,
      "outputs": []
    },
    {
      "cell_type": "code",
      "metadata": {
        "id": "t6zYF3uv7Ca1"
      },
      "source": [
        "import pandas as pd\n",
        "myfile = pd.read_csv('./content/drive/MyDrive/Colab Notebooks/train.gsheet')\n"
      ],
      "execution_count": null,
      "outputs": []
    },
    {
      "cell_type": "code",
      "metadata": {
        "id": "5cIOD-YA8Gqf"
      },
      "source": [
        "myfile2 =  pd.read_csv('./Colab Notebooks/val.gsheet')"
      ],
      "execution_count": null,
      "outputs": []
    },
    {
      "cell_type": "code",
      "metadata": {
        "id": "pQoBpBrY8GuC"
      },
      "source": [
        "train "
      ],
      "execution_count": null,
      "outputs": []
    },
    {
      "cell_type": "code",
      "metadata": {
        "id": "IjwEcE_P8GxN"
      },
      "source": [
        "#function for new app\n",
        "def get_app(app_id):\n",
        "  RESULT = []\n",
        "  result = app(\n",
        "      app_id = app_id,\n",
        "      lang='en', # defaults to 'en'\n",
        "      country='ng' # set country to 'ng'\n",
        "      )\n",
        "  keys = [\"title\", \"summary\", \"free\", \"genre\", \"installs\", \"ratings\", \"price\", \"size\", \n",
        "        \"contentRating\", \"reviews\", \"released\", \"adSupported\", \"sale\", \"score\", \"similarApps\", \"version\"]\n",
        "  APP = []\n",
        "\n",
        "  \n",
        "  appDetail2 = {key: result[key] for key in keys }\n",
        "  APP.append(appDetail2)\n",
        "\n",
        "  game_df = pd.DataFrame(APP)\n",
        "  return game_df"
      ],
      "execution_count": null,
      "outputs": []
    },
    {
      "cell_type": "code",
      "source": [
        "df = get_app('com.piggybankng.piggy')"
      ],
      "metadata": {
        "id": "gpxB8SU8dLfD"
      },
      "execution_count": null,
      "outputs": []
    }
  ]
}